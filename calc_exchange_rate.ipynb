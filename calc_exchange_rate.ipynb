{
 "cells": [
  {
   "cell_type": "code",
   "execution_count": 100,
   "id": "3734ada8-507a-42ca-8d72-d71ab00c2a36",
   "metadata": {
    "tags": []
   },
   "outputs": [],
   "source": [
    "#import files\n",
    "import requests\n",
    "from datetime import date\n",
    "from datetime import datetime\n",
    "import json"
   ]
  },
  {
   "cell_type": "code",
   "execution_count": 102,
   "id": "4af9c315-be67-4ea1-8e00-860d910ef059",
   "metadata": {
    "tags": []
   },
   "outputs": [],
   "source": [
    "# derive the appropriate exchange rate for the currency code provided\n",
    "def calc_exchange_rate(currency_code):\n",
    "    global calc_out\n",
    "    global exchange_date\n",
    "    global exchange_rates\n",
    "    global run_date\n",
    "    \n",
    "    # restore exchange date, dictionary of exchange rates, and last run date of the API\n",
    "    %store -r exchange_date\n",
    "    %store -r exchange_rates\n",
    "    %store -r run_date\n",
    "    \n",
    "    # if API was already invoked today, use the existing dictionary of exchange rates\n",
    "    # (we're using a free API which only updates once\\day)\n",
    "    if (run_date == date.today()):\n",
    "        calc_out = exchange_rates[currency_code]\n",
    "    else:\n",
    "        # invoke function to call API\n",
    "        calc_out = get_curr_exchg_rate(currency_code)\n",
    "        run_date = date.today()\n",
    "    \n",
    "    # store the exchange rate for the given currency code, along with run date\n",
    "    %store calc_out\n",
    "    %store run_date\n",
    "    "
   ]
  },
  {
   "cell_type": "code",
   "execution_count": 104,
   "id": "8001a462-67f4-4324-81a7-3e2fbaab22a4",
   "metadata": {
    "tags": []
   },
   "outputs": [],
   "source": [
    "# call api to get dictionary of exchange rates\n",
    "def get_curr_exchg_rate(currency_code):\n",
    "    global response_data\n",
    "    global exchg_rate_data\n",
    "    global exchange_date\n",
    "    global exchange_rates\n",
    "    \n",
    "    # call API\n",
    "    url = 'https://open.er-api.com/v6/latest/USD'\n",
    "    response_data = requests.get(url)\n",
    "    %store response_data\n",
    "    print(response_data)\n",
    "    \n",
    "    # extract and format data\n",
    "    exchg_rate_data = response_data.json()\n",
    "    %store exchg_rate_data\n",
    "    print(json.dumps(exchg_rate_data, indent=4))\n",
    "    \n",
    "    # check return code; if 'success', extract the exchange data and dictionary of exchange rates\n",
    "    resp_cd = exchg_rate_data[\"result\"]\n",
    "    if resp_cd == \"success\":\n",
    "        date_object = datetime.strptime(exchg_rate_data['time_last_update_utc'], '%a, %d %b %Y %H:%M:%S %z')\n",
    "        exchange_date = date_object.strftime('%Y-%m-%d')\n",
    "        %store exchange_date\n",
    "        exchange_rates = exchg_rate_data['rates']\n",
    "        %store exchange_rates\n",
    "        return exchange_rates[currency_code]\n",
    "    else:\n",
    "        return 0\n",
    "    \n",
    "    # thank you to https://www.exchangerate-api.com/docs/free for providing the API"
   ]
  },
  {
   "cell_type": "code",
   "execution_count": null,
   "id": "3e69b507-2f85-496c-9d96-7a9a50121096",
   "metadata": {},
   "outputs": [],
   "source": []
  },
  {
   "cell_type": "code",
   "execution_count": null,
   "id": "8a53e916-91a9-4968-8505-1163ce51e442",
   "metadata": {},
   "outputs": [],
   "source": []
  }
 ],
 "metadata": {
  "kernelspec": {
   "display_name": "Python 3 (ipykernel)",
   "language": "python",
   "name": "python3"
  },
  "language_info": {
   "codemirror_mode": {
    "name": "ipython",
    "version": 3
   },
   "file_extension": ".py",
   "mimetype": "text/x-python",
   "name": "python",
   "nbconvert_exporter": "python",
   "pygments_lexer": "ipython3",
   "version": "3.11.7"
  }
 },
 "nbformat": 4,
 "nbformat_minor": 5
}
