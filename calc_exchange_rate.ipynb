{
 "cells": [
  {
   "cell_type": "code",
   "execution_count": 181,
   "id": "3734ada8-507a-42ca-8d72-d71ab00c2a36",
   "metadata": {
    "tags": []
   },
   "outputs": [],
   "source": [
    "import requests\n",
    "from datetime import date\n",
    "import json"
   ]
  },
  {
   "cell_type": "code",
   "execution_count": 195,
   "id": "4af9c315-be67-4ea1-8e00-860d910ef059",
   "metadata": {
    "tags": []
   },
   "outputs": [],
   "source": [
    "def calc_exchange_rate():\n",
    "    global calc_out\n",
    "    global curr_exchg_date\n",
    "    global curr_exchg_rate\n",
    "    \n",
    "    %store -r curr_exchg_date\n",
    "    %store -r curr_exchg_rate\n",
    "    \n",
    "    if (curr_exchg_date == date.today()):\n",
    "        calc_out = curr_exchg_rate\n",
    "    else:\n",
    "        calc_out = get_curr_exchg_rate()\n",
    "    \n",
    "    curr_exchg_date = date.today()\n",
    "    curr_exchg_rate = calc_out\n",
    "    \n",
    "    %store calc_out\n",
    "    %store curr_exchg_date\n",
    "    %store curr_exchg_rate\n",
    "    \n",
    "#    print(\" calc out: \", calc_out)\n",
    "#    print(\"curr exchg date: \",curr_exchg_date)\n",
    "#    print(\"curr exchg rate: \", curr_exchg_rate)\n",
    "\n",
    "def get_curr_exchg_rate():\n",
    "    global response_data\n",
    "    url = 'https://open.er-api.com/v6/latest/USD'\n",
    "    response_data = requests.get(url)\n",
    "    %store response_data\n",
    "    print(response_data)\n",
    "    \n",
    "    data = response_data.json()\n",
    "    print(json.dumps(data, indent=4))\n",
    "        \n",
    "    resp_cd = data[\"result\"]\n",
    "    if resp_cd == \"success\":\n",
    "        return data[\"rates\"][\"EUR\"]\n",
    "    else:\n",
    "        return 0.9324\n",
    "        \n",
    "    \n",
    "    \n",
    "    \n",
    "\n",
    "    "
   ]
  },
  {
   "cell_type": "code",
   "execution_count": 215,
   "id": "6c7b6a59-52d5-432e-bf08-a670f9ae823c",
   "metadata": {
    "tags": []
   },
   "outputs": [
    {
     "name": "stdout",
     "output_type": "stream",
     "text": [
      "Stored 'curr_exchg_rate' (float)\n",
      "Stored 'calc_out' (float)\n"
     ]
    }
   ],
   "source": [
    "global curr_exchg_rate, calc_out\n",
    "curr_exchg_rate = .934161\n",
    "calc_out = .394161\n",
    "%store curr_exchg_rate\n",
    "%store calc_out"
   ]
  },
  {
   "cell_type": "code",
   "execution_count": null,
   "id": "483695cc-7a56-4f6d-be6e-ea8289085353",
   "metadata": {},
   "outputs": [],
   "source": []
  }
 ],
 "metadata": {
  "kernelspec": {
   "display_name": "Python 3 (ipykernel)",
   "language": "python",
   "name": "python3"
  },
  "language_info": {
   "codemirror_mode": {
    "name": "ipython",
    "version": 3
   },
   "file_extension": ".py",
   "mimetype": "text/x-python",
   "name": "python",
   "nbconvert_exporter": "python",
   "pygments_lexer": "ipython3",
   "version": "3.11.7"
  }
 },
 "nbformat": 4,
 "nbformat_minor": 5
}
