{
 "cells": [
  {
   "cell_type": "code",
   "execution_count": 59,
   "id": "ec55d806-b59b-4bfb-931d-697fad3c3db3",
   "metadata": {},
   "outputs": [],
   "source": [
    "# Import the required libraries and dependencies\n",
    "import pandas as pd\n",
    "from pathlib import Path\n"
   ]
  },
  {
   "cell_type": "code",
   "execution_count": 61,
   "id": "d6f530fe-d319-4550-a910-f32e0a45fda0",
   "metadata": {},
   "outputs": [
    {
     "data": {
      "text/html": [
       "<div>\n",
       "<style scoped>\n",
       "    .dataframe tbody tr th:only-of-type {\n",
       "        vertical-align: middle;\n",
       "    }\n",
       "\n",
       "    .dataframe tbody tr th {\n",
       "        vertical-align: top;\n",
       "    }\n",
       "\n",
       "    .dataframe thead th {\n",
       "        text-align: right;\n",
       "    }\n",
       "</style>\n",
       "<table border=\"1\" class=\"dataframe\">\n",
       "  <thead>\n",
       "    <tr style=\"text-align: right;\">\n",
       "      <th></th>\n",
       "      <th>Date</th>\n",
       "      <th>Close/Last</th>\n",
       "      <th>Volume</th>\n",
       "      <th>Open</th>\n",
       "      <th>High</th>\n",
       "      <th>Low</th>\n",
       "    </tr>\n",
       "  </thead>\n",
       "  <tbody>\n",
       "    <tr>\n",
       "      <th>0</th>\n",
       "      <td>04/30/2024</td>\n",
       "      <td>1.0656</td>\n",
       "      <td>NaN</td>\n",
       "      <td>1.0665</td>\n",
       "      <td>1.0674</td>\n",
       "      <td>1.0655</td>\n",
       "    </tr>\n",
       "    <tr>\n",
       "      <th>1</th>\n",
       "      <td>04/29/2024</td>\n",
       "      <td>1.0703</td>\n",
       "      <td>NaN</td>\n",
       "      <td>1.0719</td>\n",
       "      <td>1.0724</td>\n",
       "      <td>1.0703</td>\n",
       "    </tr>\n",
       "    <tr>\n",
       "      <th>2</th>\n",
       "      <td>04/28/2024</td>\n",
       "      <td>1.0716</td>\n",
       "      <td>NaN</td>\n",
       "      <td>1.0692</td>\n",
       "      <td>1.0720</td>\n",
       "      <td>1.0692</td>\n",
       "    </tr>\n",
       "    <tr>\n",
       "      <th>3</th>\n",
       "      <td>04/26/2024</td>\n",
       "      <td>1.0694</td>\n",
       "      <td>NaN</td>\n",
       "      <td>1.0729</td>\n",
       "      <td>1.0753</td>\n",
       "      <td>1.0674</td>\n",
       "    </tr>\n",
       "    <tr>\n",
       "      <th>4</th>\n",
       "      <td>04/25/2024</td>\n",
       "      <td>1.0722</td>\n",
       "      <td>NaN</td>\n",
       "      <td>1.0729</td>\n",
       "      <td>1.0732</td>\n",
       "      <td>1.0718</td>\n",
       "    </tr>\n",
       "  </tbody>\n",
       "</table>\n",
       "</div>"
      ],
      "text/plain": [
       "         Date  Close/Last  Volume    Open    High     Low\n",
       "0  04/30/2024      1.0656     NaN  1.0665  1.0674  1.0655\n",
       "1  04/29/2024      1.0703     NaN  1.0719  1.0724  1.0703\n",
       "2  04/28/2024      1.0716     NaN  1.0692  1.0720  1.0692\n",
       "3  04/26/2024      1.0694     NaN  1.0729  1.0753  1.0674\n",
       "4  04/25/2024      1.0722     NaN  1.0729  1.0732  1.0718"
      ]
     },
     "execution_count": 61,
     "metadata": {},
     "output_type": "execute_result"
    }
   ],
   "source": [
    "#import csv\n",
    "path = \"Resources/HistoricalData.csv\"\n",
    "df = pd.read_csv(path,parse_dates=True)\n",
    "df.head()"
   ]
  },
  {
   "cell_type": "code",
   "execution_count": 63,
   "id": "689775ea-d8e6-48bb-9b00-ee234307982d",
   "metadata": {
    "tags": []
   },
   "outputs": [],
   "source": [
    "#extract columns\n",
    "df2 = df[['Date','Close/Last']].copy()"
   ]
  },
  {
   "cell_type": "code",
   "execution_count": 65,
   "id": "e7ea6f94-a676-463d-8fea-85a53fccab48",
   "metadata": {
    "tags": []
   },
   "outputs": [
    {
     "data": {
      "text/html": [
       "<div>\n",
       "<style scoped>\n",
       "    .dataframe tbody tr th:only-of-type {\n",
       "        vertical-align: middle;\n",
       "    }\n",
       "\n",
       "    .dataframe tbody tr th {\n",
       "        vertical-align: top;\n",
       "    }\n",
       "\n",
       "    .dataframe thead th {\n",
       "        text-align: right;\n",
       "    }\n",
       "</style>\n",
       "<table border=\"1\" class=\"dataframe\">\n",
       "  <thead>\n",
       "    <tr style=\"text-align: right;\">\n",
       "      <th></th>\n",
       "      <th>Close/Last</th>\n",
       "    </tr>\n",
       "    <tr>\n",
       "      <th>Date</th>\n",
       "      <th></th>\n",
       "    </tr>\n",
       "  </thead>\n",
       "  <tbody>\n",
       "    <tr>\n",
       "      <th>04/30/2024</th>\n",
       "      <td>1.0656</td>\n",
       "    </tr>\n",
       "    <tr>\n",
       "      <th>04/29/2024</th>\n",
       "      <td>1.0703</td>\n",
       "    </tr>\n",
       "    <tr>\n",
       "      <th>04/28/2024</th>\n",
       "      <td>1.0716</td>\n",
       "    </tr>\n",
       "    <tr>\n",
       "      <th>04/26/2024</th>\n",
       "      <td>1.0694</td>\n",
       "    </tr>\n",
       "    <tr>\n",
       "      <th>04/25/2024</th>\n",
       "      <td>1.0722</td>\n",
       "    </tr>\n",
       "    <tr>\n",
       "      <th>...</th>\n",
       "      <td>...</td>\n",
       "    </tr>\n",
       "    <tr>\n",
       "      <th>05/08/2019</th>\n",
       "      <td>1.1187</td>\n",
       "    </tr>\n",
       "    <tr>\n",
       "      <th>05/07/2019</th>\n",
       "      <td>1.1200</td>\n",
       "    </tr>\n",
       "    <tr>\n",
       "      <th>05/06/2019</th>\n",
       "      <td>1.1205</td>\n",
       "    </tr>\n",
       "    <tr>\n",
       "      <th>05/05/2019</th>\n",
       "      <td>1.1189</td>\n",
       "    </tr>\n",
       "    <tr>\n",
       "      <th>05/03/2019</th>\n",
       "      <td>1.1202</td>\n",
       "    </tr>\n",
       "  </tbody>\n",
       "</table>\n",
       "<p>1525 rows × 1 columns</p>\n",
       "</div>"
      ],
      "text/plain": [
       "            Close/Last\n",
       "Date                  \n",
       "04/30/2024      1.0656\n",
       "04/29/2024      1.0703\n",
       "04/28/2024      1.0716\n",
       "04/26/2024      1.0694\n",
       "04/25/2024      1.0722\n",
       "...                ...\n",
       "05/08/2019      1.1187\n",
       "05/07/2019      1.1200\n",
       "05/06/2019      1.1205\n",
       "05/05/2019      1.1189\n",
       "05/03/2019      1.1202\n",
       "\n",
       "[1525 rows x 1 columns]"
      ]
     },
     "execution_count": 65,
     "metadata": {},
     "output_type": "execute_result"
    }
   ],
   "source": [
    "#EXTRACT COLUMNS\n",
    "df2.rename(columns={'Close/Last':'Close'})\n",
    "df2.set_index('Date')"
   ]
  },
  {
   "cell_type": "code",
   "execution_count": 67,
   "id": "63ec9650-75bc-49b4-8135-4d8b8681c888",
   "metadata": {
    "tags": []
   },
   "outputs": [
    {
     "data": {
      "text/html": [
       "<div>\n",
       "<style scoped>\n",
       "    .dataframe tbody tr th:only-of-type {\n",
       "        vertical-align: middle;\n",
       "    }\n",
       "\n",
       "    .dataframe tbody tr th {\n",
       "        vertical-align: top;\n",
       "    }\n",
       "\n",
       "    .dataframe thead th {\n",
       "        text-align: right;\n",
       "    }\n",
       "</style>\n",
       "<table border=\"1\" class=\"dataframe\">\n",
       "  <thead>\n",
       "    <tr style=\"text-align: right;\">\n",
       "      <th></th>\n",
       "      <th>Date</th>\n",
       "      <th>Close/Last</th>\n",
       "    </tr>\n",
       "  </thead>\n",
       "  <tbody>\n",
       "    <tr>\n",
       "      <th>0</th>\n",
       "      <td>2024-04-30</td>\n",
       "      <td>1.0656</td>\n",
       "    </tr>\n",
       "    <tr>\n",
       "      <th>1</th>\n",
       "      <td>2024-04-29</td>\n",
       "      <td>1.0703</td>\n",
       "    </tr>\n",
       "    <tr>\n",
       "      <th>2</th>\n",
       "      <td>2024-04-28</td>\n",
       "      <td>1.0716</td>\n",
       "    </tr>\n",
       "    <tr>\n",
       "      <th>3</th>\n",
       "      <td>2024-04-26</td>\n",
       "      <td>1.0694</td>\n",
       "    </tr>\n",
       "    <tr>\n",
       "      <th>4</th>\n",
       "      <td>2024-04-25</td>\n",
       "      <td>1.0722</td>\n",
       "    </tr>\n",
       "  </tbody>\n",
       "</table>\n",
       "</div>"
      ],
      "text/plain": [
       "        Date  Close/Last\n",
       "0 2024-04-30      1.0656\n",
       "1 2024-04-29      1.0703\n",
       "2 2024-04-28      1.0716\n",
       "3 2024-04-26      1.0694\n",
       "4 2024-04-25      1.0722"
      ]
     },
     "execution_count": 67,
     "metadata": {},
     "output_type": "execute_result"
    }
   ],
   "source": [
    "#convert date column from string to date\n",
    "df2['Date']=pd.to_datetime(df2['Date'])\n",
    "df2.head()                          "
   ]
  },
  {
   "cell_type": "code",
   "execution_count": 69,
   "id": "60474afc-b686-4f44-bd1a-7ee81c11998f",
   "metadata": {
    "tags": []
   },
   "outputs": [
    {
     "data": {
      "text/html": [
       "<div>\n",
       "<style scoped>\n",
       "    .dataframe tbody tr th:only-of-type {\n",
       "        vertical-align: middle;\n",
       "    }\n",
       "\n",
       "    .dataframe tbody tr th {\n",
       "        vertical-align: top;\n",
       "    }\n",
       "\n",
       "    .dataframe thead th {\n",
       "        text-align: right;\n",
       "    }\n",
       "</style>\n",
       "<table border=\"1\" class=\"dataframe\">\n",
       "  <thead>\n",
       "    <tr style=\"text-align: right;\">\n",
       "      <th></th>\n",
       "      <th>Date</th>\n",
       "      <th>Close/Last</th>\n",
       "    </tr>\n",
       "  </thead>\n",
       "  <tbody>\n",
       "    <tr>\n",
       "      <th>0</th>\n",
       "      <td>2024-04-30</td>\n",
       "      <td>1.0656</td>\n",
       "    </tr>\n",
       "    <tr>\n",
       "      <th>1</th>\n",
       "      <td>2024-04-29</td>\n",
       "      <td>1.0703</td>\n",
       "    </tr>\n",
       "    <tr>\n",
       "      <th>2</th>\n",
       "      <td>2024-04-28</td>\n",
       "      <td>1.0716</td>\n",
       "    </tr>\n",
       "    <tr>\n",
       "      <th>3</th>\n",
       "      <td>2024-04-26</td>\n",
       "      <td>1.0694</td>\n",
       "    </tr>\n",
       "    <tr>\n",
       "      <th>4</th>\n",
       "      <td>2024-04-25</td>\n",
       "      <td>1.0722</td>\n",
       "    </tr>\n",
       "  </tbody>\n",
       "</table>\n",
       "</div>"
      ],
      "text/plain": [
       "        Date  Close/Last\n",
       "0 2024-04-30      1.0656\n",
       "1 2024-04-29      1.0703\n",
       "2 2024-04-28      1.0716\n",
       "3 2024-04-26      1.0694\n",
       "4 2024-04-25      1.0722"
      ]
     },
     "execution_count": 69,
     "metadata": {},
     "output_type": "execute_result"
    }
   ],
   "source": [
    "#EXTRACT BY DATE\n",
    "df3=df2.loc[(df2['Date']>='2022-01-02')]\n",
    "df3.head()"
   ]
  },
  {
   "cell_type": "code",
   "execution_count": 73,
   "id": "0f85eeb5-23dc-45f0-87de-485198fc5a1c",
   "metadata": {
    "tags": []
   },
   "outputs": [
    {
     "data": {
      "text/html": [
       "<div>\n",
       "<style scoped>\n",
       "    .dataframe tbody tr th:only-of-type {\n",
       "        vertical-align: middle;\n",
       "    }\n",
       "\n",
       "    .dataframe tbody tr th {\n",
       "        vertical-align: top;\n",
       "    }\n",
       "\n",
       "    .dataframe thead th {\n",
       "        text-align: right;\n",
       "    }\n",
       "</style>\n",
       "<table border=\"1\" class=\"dataframe\">\n",
       "  <thead>\n",
       "    <tr style=\"text-align: right;\">\n",
       "      <th></th>\n",
       "      <th>Date</th>\n",
       "      <th>Close/Last</th>\n",
       "    </tr>\n",
       "  </thead>\n",
       "  <tbody>\n",
       "    <tr>\n",
       "      <th>0</th>\n",
       "      <td>2024-04-30</td>\n",
       "      <td>1.0656</td>\n",
       "    </tr>\n",
       "    <tr>\n",
       "      <th>1</th>\n",
       "      <td>2024-04-29</td>\n",
       "      <td>1.0703</td>\n",
       "    </tr>\n",
       "    <tr>\n",
       "      <th>2</th>\n",
       "      <td>2024-04-28</td>\n",
       "      <td>1.0716</td>\n",
       "    </tr>\n",
       "    <tr>\n",
       "      <th>3</th>\n",
       "      <td>2024-04-26</td>\n",
       "      <td>1.0694</td>\n",
       "    </tr>\n",
       "    <tr>\n",
       "      <th>4</th>\n",
       "      <td>2024-04-25</td>\n",
       "      <td>1.0722</td>\n",
       "    </tr>\n",
       "    <tr>\n",
       "      <th>...</th>\n",
       "      <td>...</td>\n",
       "      <td>...</td>\n",
       "    </tr>\n",
       "    <tr>\n",
       "      <th>711</th>\n",
       "      <td>2022-01-06</td>\n",
       "      <td>1.1303</td>\n",
       "    </tr>\n",
       "    <tr>\n",
       "      <th>712</th>\n",
       "      <td>2022-01-05</td>\n",
       "      <td>1.1315</td>\n",
       "    </tr>\n",
       "    <tr>\n",
       "      <th>713</th>\n",
       "      <td>2022-01-04</td>\n",
       "      <td>1.1291</td>\n",
       "    </tr>\n",
       "    <tr>\n",
       "      <th>714</th>\n",
       "      <td>2022-01-03</td>\n",
       "      <td>1.1301</td>\n",
       "    </tr>\n",
       "    <tr>\n",
       "      <th>715</th>\n",
       "      <td>2022-01-02</td>\n",
       "      <td>1.1341</td>\n",
       "    </tr>\n",
       "  </tbody>\n",
       "</table>\n",
       "<p>716 rows × 2 columns</p>\n",
       "</div>"
      ],
      "text/plain": [
       "          Date  Close/Last\n",
       "0   2024-04-30      1.0656\n",
       "1   2024-04-29      1.0703\n",
       "2   2024-04-28      1.0716\n",
       "3   2024-04-26      1.0694\n",
       "4   2024-04-25      1.0722\n",
       "..         ...         ...\n",
       "711 2022-01-06      1.1303\n",
       "712 2022-01-05      1.1315\n",
       "713 2022-01-04      1.1291\n",
       "714 2022-01-03      1.1301\n",
       "715 2022-01-02      1.1341\n",
       "\n",
       "[716 rows x 2 columns]"
      ]
     },
     "execution_count": 73,
     "metadata": {},
     "output_type": "execute_result"
    }
   ],
   "source": [
    "#drop all nulls\n",
    "df3.dropna()"
   ]
  },
  {
   "cell_type": "code",
   "execution_count": 85,
   "id": "86e6f154-4a4d-44c5-9afe-8e530103d289",
   "metadata": {},
   "outputs": [
    {
     "data": {
      "text/html": [
       "<div>\n",
       "<style scoped>\n",
       "    .dataframe tbody tr th:only-of-type {\n",
       "        vertical-align: middle;\n",
       "    }\n",
       "\n",
       "    .dataframe tbody tr th {\n",
       "        vertical-align: top;\n",
       "    }\n",
       "\n",
       "    .dataframe thead th {\n",
       "        text-align: right;\n",
       "    }\n",
       "</style>\n",
       "<table border=\"1\" class=\"dataframe\">\n",
       "  <thead>\n",
       "    <tr style=\"text-align: right;\">\n",
       "      <th></th>\n",
       "      <th>Date</th>\n",
       "      <th>Close/Last</th>\n",
       "    </tr>\n",
       "  </thead>\n",
       "  <tbody>\n",
       "    <tr>\n",
       "      <th>715</th>\n",
       "      <td>2022-01-02</td>\n",
       "      <td>1.1341</td>\n",
       "    </tr>\n",
       "    <tr>\n",
       "      <th>714</th>\n",
       "      <td>2022-01-03</td>\n",
       "      <td>1.1301</td>\n",
       "    </tr>\n",
       "    <tr>\n",
       "      <th>713</th>\n",
       "      <td>2022-01-04</td>\n",
       "      <td>1.1291</td>\n",
       "    </tr>\n",
       "    <tr>\n",
       "      <th>712</th>\n",
       "      <td>2022-01-05</td>\n",
       "      <td>1.1315</td>\n",
       "    </tr>\n",
       "    <tr>\n",
       "      <th>711</th>\n",
       "      <td>2022-01-06</td>\n",
       "      <td>1.1303</td>\n",
       "    </tr>\n",
       "  </tbody>\n",
       "</table>\n",
       "</div>"
      ],
      "text/plain": [
       "          Date  Close/Last\n",
       "715 2022-01-02      1.1341\n",
       "714 2022-01-03      1.1301\n",
       "713 2022-01-04      1.1291\n",
       "712 2022-01-05      1.1315\n",
       "711 2022-01-06      1.1303"
      ]
     },
     "execution_count": 85,
     "metadata": {},
     "output_type": "execute_result"
    }
   ],
   "source": [
    "#Sort Values\n",
    "df3=df3.sort_values(by='Date')\n",
    "df3.head()"
   ]
  },
  {
   "cell_type": "code",
   "execution_count": 89,
   "id": "2eb31936-3642-4207-94e1-18f87856249d",
   "metadata": {
    "tags": []
   },
   "outputs": [],
   "source": [
    "hed_df=df3"
   ]
  },
  {
   "cell_type": "code",
   "execution_count": 91,
   "id": "cb59d02a-c9c5-4728-b45a-54156752cc84",
   "metadata": {
    "tags": []
   },
   "outputs": [
    {
     "name": "stdout",
     "output_type": "stream",
     "text": [
      "Stored 'hed_df' (DataFrame)\n"
     ]
    }
   ],
   "source": [
    "%store hed_df"
   ]
  },
  {
   "cell_type": "code",
   "execution_count": null,
   "id": "0053c4e5-491c-4fe3-9795-769948fbb9e2",
   "metadata": {},
   "outputs": [],
   "source": []
  }
 ],
 "metadata": {
  "kernelspec": {
   "display_name": "Python 3 (ipykernel)",
   "language": "python",
   "name": "python3"
  },
  "language_info": {
   "codemirror_mode": {
    "name": "ipython",
    "version": 3
   },
   "file_extension": ".py",
   "mimetype": "text/x-python",
   "name": "python",
   "nbconvert_exporter": "python",
   "pygments_lexer": "ipython3",
   "version": "3.11.5"
  }
 },
 "nbformat": 4,
 "nbformat_minor": 5
}
