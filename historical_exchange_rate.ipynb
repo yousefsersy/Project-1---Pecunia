{
 "cells": [
  {
   "cell_type": "code",
   "execution_count": 29,
   "metadata": {},
   "outputs": [],
   "source": [
    "#Initial imports\n",
    "import pandas as pd\n",
    "import numpy as np\n",
    "import datetime as dt\n",
    "import hvplot.pandas\n",
    "import holoviews as hv\n",
    "global describe\n",
    "global daily_return_plot\n",
    "global rolling_std_plot\n",
    "global closing_plot\n"
   ]
  },
  {
   "cell_type": "code",
   "execution_count": 30,
   "metadata": {},
   "outputs": [
    {
     "name": "stdout",
     "output_type": "stream",
     "text": [
      "Stored 'hed_df' (DataFrame)\n"
     ]
    }
   ],
   "source": [
    "# Calling notebook (historical exchange data) to create historical exchange dataframe\n",
    "%run HED.ipynb"
   ]
  },
  {
   "cell_type": "code",
   "execution_count": 31,
   "metadata": {},
   "outputs": [],
   "source": [
    "# Restore Data from historical exchange dataframe \n",
    "%store -r hed_df"
   ]
  },
  {
   "cell_type": "code",
   "execution_count": 32,
   "metadata": {},
   "outputs": [
    {
     "data": {
      "text/html": [
       "<div>\n",
       "<style scoped>\n",
       "    .dataframe tbody tr th:only-of-type {\n",
       "        vertical-align: middle;\n",
       "    }\n",
       "\n",
       "    .dataframe tbody tr th {\n",
       "        vertical-align: top;\n",
       "    }\n",
       "\n",
       "    .dataframe thead th {\n",
       "        text-align: right;\n",
       "    }\n",
       "</style>\n",
       "<table border=\"1\" class=\"dataframe\">\n",
       "  <thead>\n",
       "    <tr style=\"text-align: right;\">\n",
       "      <th></th>\n",
       "      <th>Close</th>\n",
       "    </tr>\n",
       "    <tr>\n",
       "      <th>Date</th>\n",
       "      <th></th>\n",
       "    </tr>\n",
       "  </thead>\n",
       "  <tbody>\n",
       "    <tr>\n",
       "      <th>2022-01-02</th>\n",
       "      <td>1.1341</td>\n",
       "    </tr>\n",
       "    <tr>\n",
       "      <th>2022-01-03</th>\n",
       "      <td>1.1301</td>\n",
       "    </tr>\n",
       "    <tr>\n",
       "      <th>2022-01-04</th>\n",
       "      <td>1.1291</td>\n",
       "    </tr>\n",
       "    <tr>\n",
       "      <th>2022-01-05</th>\n",
       "      <td>1.1315</td>\n",
       "    </tr>\n",
       "    <tr>\n",
       "      <th>2022-01-06</th>\n",
       "      <td>1.1303</td>\n",
       "    </tr>\n",
       "  </tbody>\n",
       "</table>\n",
       "</div>"
      ],
      "text/plain": [
       "             Close\n",
       "Date              \n",
       "2022-01-02  1.1341\n",
       "2022-01-03  1.1301\n",
       "2022-01-04  1.1291\n",
       "2022-01-05  1.1315\n",
       "2022-01-06  1.1303"
      ]
     },
     "execution_count": 32,
     "metadata": {},
     "output_type": "execute_result"
    }
   ],
   "source": [
    "# Reading clean data of historical exchange dataframe \n",
    "hed_df.head()\n"
   ]
  },
  {
   "cell_type": "code",
   "execution_count": 42,
   "metadata": {},
   "outputs": [
    {
     "data": {
      "text/html": [
       "<div>\n",
       "<style scoped>\n",
       "    .dataframe tbody tr th:only-of-type {\n",
       "        vertical-align: middle;\n",
       "    }\n",
       "\n",
       "    .dataframe tbody tr th {\n",
       "        vertical-align: top;\n",
       "    }\n",
       "\n",
       "    .dataframe thead th {\n",
       "        text-align: right;\n",
       "    }\n",
       "</style>\n",
       "<table border=\"1\" class=\"dataframe\">\n",
       "  <thead>\n",
       "    <tr style=\"text-align: right;\">\n",
       "      <th></th>\n",
       "      <th>Close</th>\n",
       "    </tr>\n",
       "  </thead>\n",
       "  <tbody>\n",
       "    <tr>\n",
       "      <th>count</th>\n",
       "      <td>716.000000</td>\n",
       "    </tr>\n",
       "    <tr>\n",
       "      <th>mean</th>\n",
       "      <td>1.069714</td>\n",
       "    </tr>\n",
       "    <tr>\n",
       "      <th>std</th>\n",
       "      <td>0.037367</td>\n",
       "    </tr>\n",
       "    <tr>\n",
       "      <th>min</th>\n",
       "      <td>0.956000</td>\n",
       "    </tr>\n",
       "    <tr>\n",
       "      <th>25%</th>\n",
       "      <td>1.054775</td>\n",
       "    </tr>\n",
       "    <tr>\n",
       "      <th>50%</th>\n",
       "      <td>1.076250</td>\n",
       "    </tr>\n",
       "    <tr>\n",
       "      <th>75%</th>\n",
       "      <td>1.092170</td>\n",
       "    </tr>\n",
       "    <tr>\n",
       "      <th>max</th>\n",
       "      <td>1.147300</td>\n",
       "    </tr>\n",
       "  </tbody>\n",
       "</table>\n",
       "</div>"
      ],
      "text/plain": [
       "            Close\n",
       "count  716.000000\n",
       "mean     1.069714\n",
       "std      0.037367\n",
       "min      0.956000\n",
       "25%      1.054775\n",
       "50%      1.076250\n",
       "75%      1.092170\n",
       "max      1.147300"
      ]
     },
     "execution_count": 42,
     "metadata": {},
     "output_type": "execute_result"
    }
   ],
   "source": [
    "# List the overview of the data\n",
    "describe = hed_df.describe()\n",
    "describe"
   ]
  },
  {
   "cell_type": "code",
   "execution_count": 34,
   "metadata": {},
   "outputs": [
    {
     "data": {
      "text/plain": [
       "Date\n",
       "2022-01-02         NaN\n",
       "2022-01-03   -0.003527\n",
       "2022-01-04   -0.000885\n",
       "2022-01-05    0.002126\n",
       "2022-01-06   -0.001061\n",
       "Name: Close, dtype: float64"
      ]
     },
     "execution_count": 34,
     "metadata": {},
     "output_type": "execute_result"
    }
   ],
   "source": [
    "#Calculate Daily Returns\n",
    "\n",
    "pct_change_df= hed_df['Close'].pct_change()\n",
    "pct_change_df.head()"
   ]
  },
  {
   "cell_type": "code",
   "execution_count": 35,
   "metadata": {},
   "outputs": [
    {
     "data": {
      "text/plain": [
       "Date\n",
       "2022-01-03   -0.003527\n",
       "2022-01-04   -0.000885\n",
       "2022-01-05    0.002126\n",
       "2022-01-06   -0.001061\n",
       "2022-01-07    0.005220\n",
       "Name: Close, dtype: float64"
      ]
     },
     "execution_count": 35,
     "metadata": {},
     "output_type": "execute_result"
    }
   ],
   "source": [
    "# Drop nulls\n",
    "\n",
    "pct_change_df= pct_change_df.dropna()\n",
    "pct_change_df.head()"
   ]
  },
  {
   "cell_type": "code",
   "execution_count": 36,
   "metadata": {},
   "outputs": [
    {
     "data": {},
     "metadata": {},
     "output_type": "display_data"
    },
    {
     "data": {
      "application/vnd.holoviews_exec.v0+json": "",
      "text/html": [
       "<div id='p1454'>\n",
       "  <div id=\"d0be20f0-5be8-4056-8220-86d2550e5af7\" data-root-id=\"p1454\" style=\"display: contents;\"></div>\n",
       "</div>\n",
       "<script type=\"application/javascript\">(function(root) {\n",
       "  var docs_json = {\"d45bc430-0813-49e4-a07c-f9ec006d4fe6\":{\"version\":\"3.4.0\",\"title\":\"Bokeh Application\",\"roots\":[{\"type\":\"object\",\"name\":\"Row\",\"id\":\"p1454\",\"attributes\":{\"name\":\"Row01586\",\"tags\":[\"embedded\"],\"stylesheets\":[\"\\n:host(.pn-loading):before, .pn-loading:before {\\n  background-color: #c3c3c3;\\n  mask-size: auto calc(min(50%, 400px));\\n  -webkit-mask-size: auto calc(min(50%, 400px));\\n}\",{\"type\":\"object\",\"name\":\"ImportedStyleSheet\",\"id\":\"p1457\",\"attributes\":{\"url\":\"https://cdn.holoviz.org/panel/1.4.1/dist/css/loading.css\"}},{\"type\":\"object\",\"name\":\"ImportedStyleSheet\",\"id\":\"p1525\",\"attributes\":{\"url\":\"https://cdn.holoviz.org/panel/1.4.1/dist/css/listpanel.css\"}},{\"type\":\"object\",\"name\":\"ImportedStyleSheet\",\"id\":\"p1455\",\"attributes\":{\"url\":\"https://cdn.holoviz.org/panel/1.4.1/dist/bundled/theme/default.css\"}},{\"type\":\"object\",\"name\":\"ImportedStyleSheet\",\"id\":\"p1456\",\"attributes\":{\"url\":\"https://cdn.holoviz.org/panel/1.4.1/dist/bundled/theme/native.css\"}}],\"min_width\":700,\"margin\":0,\"sizing_mode\":\"stretch_width\",\"align\":\"start\",\"children\":[{\"type\":\"object\",\"name\":\"Spacer\",\"id\":\"p1458\",\"attributes\":{\"name\":\"HSpacer01593\",\"stylesheets\":[\"\\n:host(.pn-loading):before, .pn-loading:before {\\n  background-color: #c3c3c3;\\n  mask-size: auto calc(min(50%, 400px));\\n  -webkit-mask-size: auto calc(min(50%, 400px));\\n}\",{\"id\":\"p1457\"},{\"id\":\"p1455\"},{\"id\":\"p1456\"}],\"margin\":0,\"sizing_mode\":\"stretch_width\",\"align\":\"start\"}},{\"type\":\"object\",\"name\":\"Figure\",\"id\":\"p1466\",\"attributes\":{\"width\":700,\"height\":300,\"margin\":[5,10],\"sizing_mode\":\"fixed\",\"align\":\"start\",\"x_range\":{\"type\":\"object\",\"name\":\"Range1d\",\"id\":\"p1459\",\"attributes\":{\"tags\":[[[\"Date\",\"Date\",null]],[]],\"start\":1641168000000.0,\"end\":1714435200000.0,\"reset_start\":1641168000000.0,\"reset_end\":1714435200000.0}},\"y_range\":{\"type\":\"object\",\"name\":\"Range1d\",\"id\":\"p1460\",\"attributes\":{\"tags\":[[[\"Close\",\"Close\",null]],{\"type\":\"map\",\"entries\":[[\"invert_yaxis\",false],[\"autorange\",false]]}],\"start\":-0.021792745939482317,\"end\":0.02285926741074883,\"reset_start\":-0.021792745939482317,\"reset_end\":0.02285926741074883}},\"x_scale\":{\"type\":\"object\",\"name\":\"LinearScale\",\"id\":\"p1476\"},\"y_scale\":{\"type\":\"object\",\"name\":\"LinearScale\",\"id\":\"p1477\"},\"title\":{\"type\":\"object\",\"name\":\"Title\",\"id\":\"p1469\",\"attributes\":{\"text\":\"Daily Returns\",\"text_color\":\"black\",\"text_font_size\":\"12pt\"}},\"renderers\":[{\"type\":\"object\",\"name\":\"GlyphRenderer\",\"id\":\"p1518\",\"attributes\":{\"data_source\":{\"type\":\"object\",\"name\":\"ColumnDataSource\",\"id\":\"p1509\",\"attributes\":{\"selected\":{\"type\":\"object\",\"name\":\"Selection\",\"id\":\"p1510\",\"attributes\":{\"indices\":[],\"line_indices\":[]}},\"selection_policy\":{\"type\":\"object\",\"name\":\"UnionRenderers\",\"id\":\"p1511\"},\"data\":{\"type\":\"map\",\"entries\":[[\"Date\",{\"type\":\"ndarray\",\"array\":{\"type\":\"bytes\",\"data\":\"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\"},\"shape\":[715],\"dtype\":\"float64\",\"order\":\"little\"}],[\"Close\",{\"type\":\"ndarray\",\"array\":{\"type\":\"bytes\",\"data\":\"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\"},\"shape\":[715],\"dtype\":\"float64\",\"order\":\"little\"}]]}}},\"view\":{\"type\":\"object\",\"name\":\"CDSView\",\"id\":\"p1519\",\"attributes\":{\"filter\":{\"type\":\"object\",\"name\":\"AllIndices\",\"id\":\"p1520\"}}},\"glyph\":{\"type\":\"object\",\"name\":\"Line\",\"id\":\"p1515\",\"attributes\":{\"tags\":[\"apply_ranges\"],\"x\":{\"type\":\"field\",\"field\":\"Date\"},\"y\":{\"type\":\"field\",\"field\":\"Close\"},\"line_color\":\"#30a2da\",\"line_width\":2}},\"selection_glyph\":{\"type\":\"object\",\"name\":\"Line\",\"id\":\"p1521\",\"attributes\":{\"tags\":[\"apply_ranges\"],\"x\":{\"type\":\"field\",\"field\":\"Date\"},\"y\":{\"type\":\"field\",\"field\":\"Close\"},\"line_color\":\"#30a2da\",\"line_width\":2}},\"nonselection_glyph\":{\"type\":\"object\",\"name\":\"Line\",\"id\":\"p1516\",\"attributes\":{\"tags\":[\"apply_ranges\"],\"x\":{\"type\":\"field\",\"field\":\"Date\"},\"y\":{\"type\":\"field\",\"field\":\"Close\"},\"line_color\":\"#30a2da\",\"line_alpha\":0.1,\"line_width\":2}},\"muted_glyph\":{\"type\":\"object\",\"name\":\"Line\",\"id\":\"p1517\",\"attributes\":{\"tags\":[\"apply_ranges\"],\"x\":{\"type\":\"field\",\"field\":\"Date\"},\"y\":{\"type\":\"field\",\"field\":\"Close\"},\"line_color\":\"#30a2da\",\"line_alpha\":0.2,\"line_width\":2}}}}],\"toolbar\":{\"type\":\"object\",\"name\":\"Toolbar\",\"id\":\"p1475\",\"attributes\":{\"tools\":[{\"type\":\"object\",\"name\":\"WheelZoomTool\",\"id\":\"p1464\",\"attributes\":{\"tags\":[\"hv_created\"],\"renderers\":\"auto\",\"zoom_together\":\"none\"}},{\"type\":\"object\",\"name\":\"HoverTool\",\"id\":\"p1465\",\"attributes\":{\"tags\":[\"hv_created\"],\"renderers\":[{\"id\":\"p1518\"}],\"tooltips\":[[\"Date\",\"@{Date}{%F %T}\"],[\"Close\",\"@{Close}\"]],\"formatters\":{\"type\":\"map\",\"entries\":[[\"@{Date}\",\"datetime\"]]}}},{\"type\":\"object\",\"name\":\"SaveTool\",\"id\":\"p1500\"},{\"type\":\"object\",\"name\":\"PanTool\",\"id\":\"p1501\"},{\"type\":\"object\",\"name\":\"BoxZoomTool\",\"id\":\"p1502\",\"attributes\":{\"overlay\":{\"type\":\"object\",\"name\":\"BoxAnnotation\",\"id\":\"p1503\",\"attributes\":{\"syncable\":false,\"level\":\"overlay\",\"visible\":false,\"left\":{\"type\":\"number\",\"value\":\"nan\"},\"right\":{\"type\":\"number\",\"value\":\"nan\"},\"top\":{\"type\":\"number\",\"value\":\"nan\"},\"bottom\":{\"type\":\"number\",\"value\":\"nan\"},\"left_units\":\"canvas\",\"right_units\":\"canvas\",\"top_units\":\"canvas\",\"bottom_units\":\"canvas\",\"line_color\":\"black\",\"line_alpha\":1.0,\"line_width\":2,\"line_dash\":[4,4],\"fill_color\":\"lightgrey\",\"fill_alpha\":0.5}}}},{\"type\":\"object\",\"name\":\"ResetTool\",\"id\":\"p1508\"}],\"active_drag\":{\"id\":\"p1501\"},\"active_scroll\":{\"id\":\"p1464\"}}},\"left\":[{\"type\":\"object\",\"name\":\"LinearAxis\",\"id\":\"p1495\",\"attributes\":{\"ticker\":{\"type\":\"object\",\"name\":\"BasicTicker\",\"id\":\"p1496\",\"attributes\":{\"mantissas\":[1,2,5]}},\"formatter\":{\"type\":\"object\",\"name\":\"BasicTickFormatter\",\"id\":\"p1497\"},\"axis_label\":\"Percent Change\",\"major_label_policy\":{\"type\":\"object\",\"name\":\"AllLabels\",\"id\":\"p1498\"}}}],\"below\":[{\"type\":\"object\",\"name\":\"DatetimeAxis\",\"id\":\"p1478\",\"attributes\":{\"ticker\":{\"type\":\"object\",\"name\":\"DatetimeTicker\",\"id\":\"p1479\",\"attributes\":{\"num_minor_ticks\":5,\"tickers\":[{\"type\":\"object\",\"name\":\"AdaptiveTicker\",\"id\":\"p1480\",\"attributes\":{\"num_minor_ticks\":0,\"mantissas\":[1,2,5],\"max_interval\":500.0}},{\"type\":\"object\",\"name\":\"AdaptiveTicker\",\"id\":\"p1481\",\"attributes\":{\"num_minor_ticks\":0,\"base\":60,\"mantissas\":[1,2,5,10,15,20,30],\"min_interval\":1000.0,\"max_interval\":1800000.0}},{\"type\":\"object\",\"name\":\"AdaptiveTicker\",\"id\":\"p1482\",\"attributes\":{\"num_minor_ticks\":0,\"base\":24,\"mantissas\":[1,2,4,6,8,12],\"min_interval\":3600000.0,\"max_interval\":43200000.0}},{\"type\":\"object\",\"name\":\"DaysTicker\",\"id\":\"p1483\",\"attributes\":{\"days\":[1,2,3,4,5,6,7,8,9,10,11,12,13,14,15,16,17,18,19,20,21,22,23,24,25,26,27,28,29,30,31]}},{\"type\":\"object\",\"name\":\"DaysTicker\",\"id\":\"p1484\",\"attributes\":{\"days\":[1,4,7,10,13,16,19,22,25,28]}},{\"type\":\"object\",\"name\":\"DaysTicker\",\"id\":\"p1485\",\"attributes\":{\"days\":[1,8,15,22]}},{\"type\":\"object\",\"name\":\"DaysTicker\",\"id\":\"p1486\",\"attributes\":{\"days\":[1,15]}},{\"type\":\"object\",\"name\":\"MonthsTicker\",\"id\":\"p1487\",\"attributes\":{\"months\":[0,1,2,3,4,5,6,7,8,9,10,11]}},{\"type\":\"object\",\"name\":\"MonthsTicker\",\"id\":\"p1488\",\"attributes\":{\"months\":[0,2,4,6,8,10]}},{\"type\":\"object\",\"name\":\"MonthsTicker\",\"id\":\"p1489\",\"attributes\":{\"months\":[0,4,8]}},{\"type\":\"object\",\"name\":\"MonthsTicker\",\"id\":\"p1490\",\"attributes\":{\"months\":[0,6]}},{\"type\":\"object\",\"name\":\"YearsTicker\",\"id\":\"p1491\"}]}},\"formatter\":{\"type\":\"object\",\"name\":\"DatetimeTickFormatter\",\"id\":\"p1492\"},\"axis_label\":\"Date\",\"major_label_policy\":{\"type\":\"object\",\"name\":\"AllLabels\",\"id\":\"p1493\"}}}],\"center\":[{\"type\":\"object\",\"name\":\"Grid\",\"id\":\"p1494\",\"attributes\":{\"axis\":{\"id\":\"p1478\"},\"grid_line_color\":null}},{\"type\":\"object\",\"name\":\"Grid\",\"id\":\"p1499\",\"attributes\":{\"dimension\":1,\"axis\":{\"id\":\"p1495\"},\"grid_line_color\":null}}],\"min_border_top\":10,\"min_border_bottom\":10,\"min_border_left\":10,\"min_border_right\":10,\"output_backend\":\"webgl\"}},{\"type\":\"object\",\"name\":\"Spacer\",\"id\":\"p1523\",\"attributes\":{\"name\":\"HSpacer01594\",\"stylesheets\":[\"\\n:host(.pn-loading):before, .pn-loading:before {\\n  background-color: #c3c3c3;\\n  mask-size: auto calc(min(50%, 400px));\\n  -webkit-mask-size: auto calc(min(50%, 400px));\\n}\",{\"id\":\"p1457\"},{\"id\":\"p1455\"},{\"id\":\"p1456\"}],\"margin\":0,\"sizing_mode\":\"stretch_width\",\"align\":\"start\"}}]}}],\"defs\":[{\"type\":\"model\",\"name\":\"ReactiveHTML1\"},{\"type\":\"model\",\"name\":\"FlexBox1\",\"properties\":[{\"name\":\"align_content\",\"kind\":\"Any\",\"default\":\"flex-start\"},{\"name\":\"align_items\",\"kind\":\"Any\",\"default\":\"flex-start\"},{\"name\":\"flex_direction\",\"kind\":\"Any\",\"default\":\"row\"},{\"name\":\"flex_wrap\",\"kind\":\"Any\",\"default\":\"wrap\"},{\"name\":\"gap\",\"kind\":\"Any\",\"default\":\"\"},{\"name\":\"justify_content\",\"kind\":\"Any\",\"default\":\"flex-start\"}]},{\"type\":\"model\",\"name\":\"FloatPanel1\",\"properties\":[{\"name\":\"config\",\"kind\":\"Any\",\"default\":{\"type\":\"map\"}},{\"name\":\"contained\",\"kind\":\"Any\",\"default\":true},{\"name\":\"position\",\"kind\":\"Any\",\"default\":\"right-top\"},{\"name\":\"offsetx\",\"kind\":\"Any\",\"default\":null},{\"name\":\"offsety\",\"kind\":\"Any\",\"default\":null},{\"name\":\"theme\",\"kind\":\"Any\",\"default\":\"primary\"},{\"name\":\"status\",\"kind\":\"Any\",\"default\":\"normalized\"}]},{\"type\":\"model\",\"name\":\"GridStack1\",\"properties\":[{\"name\":\"mode\",\"kind\":\"Any\",\"default\":\"warn\"},{\"name\":\"ncols\",\"kind\":\"Any\",\"default\":null},{\"name\":\"nrows\",\"kind\":\"Any\",\"default\":null},{\"name\":\"allow_resize\",\"kind\":\"Any\",\"default\":true},{\"name\":\"allow_drag\",\"kind\":\"Any\",\"default\":true},{\"name\":\"state\",\"kind\":\"Any\",\"default\":[]}]},{\"type\":\"model\",\"name\":\"drag1\",\"properties\":[{\"name\":\"slider_width\",\"kind\":\"Any\",\"default\":5},{\"name\":\"slider_color\",\"kind\":\"Any\",\"default\":\"black\"},{\"name\":\"value\",\"kind\":\"Any\",\"default\":50}]},{\"type\":\"model\",\"name\":\"click1\",\"properties\":[{\"name\":\"terminal_output\",\"kind\":\"Any\",\"default\":\"\"},{\"name\":\"debug_name\",\"kind\":\"Any\",\"default\":\"\"},{\"name\":\"clears\",\"kind\":\"Any\",\"default\":0}]},{\"type\":\"model\",\"name\":\"FastWrapper1\",\"properties\":[{\"name\":\"object\",\"kind\":\"Any\",\"default\":null},{\"name\":\"style\",\"kind\":\"Any\",\"default\":null}]},{\"type\":\"model\",\"name\":\"NotificationAreaBase1\",\"properties\":[{\"name\":\"js_events\",\"kind\":\"Any\",\"default\":{\"type\":\"map\"}},{\"name\":\"position\",\"kind\":\"Any\",\"default\":\"bottom-right\"},{\"name\":\"_clear\",\"kind\":\"Any\",\"default\":0}]},{\"type\":\"model\",\"name\":\"NotificationArea1\",\"properties\":[{\"name\":\"js_events\",\"kind\":\"Any\",\"default\":{\"type\":\"map\"}},{\"name\":\"notifications\",\"kind\":\"Any\",\"default\":[]},{\"name\":\"position\",\"kind\":\"Any\",\"default\":\"bottom-right\"},{\"name\":\"_clear\",\"kind\":\"Any\",\"default\":0},{\"name\":\"types\",\"kind\":\"Any\",\"default\":[{\"type\":\"map\",\"entries\":[[\"type\",\"warning\"],[\"background\",\"#ffc107\"],[\"icon\",{\"type\":\"map\",\"entries\":[[\"className\",\"fas fa-exclamation-triangle\"],[\"tagName\",\"i\"],[\"color\",\"white\"]]}]]},{\"type\":\"map\",\"entries\":[[\"type\",\"info\"],[\"background\",\"#007bff\"],[\"icon\",{\"type\":\"map\",\"entries\":[[\"className\",\"fas fa-info-circle\"],[\"tagName\",\"i\"],[\"color\",\"white\"]]}]]}]}]},{\"type\":\"model\",\"name\":\"Notification\",\"properties\":[{\"name\":\"background\",\"kind\":\"Any\",\"default\":null},{\"name\":\"duration\",\"kind\":\"Any\",\"default\":3000},{\"name\":\"icon\",\"kind\":\"Any\",\"default\":null},{\"name\":\"message\",\"kind\":\"Any\",\"default\":\"\"},{\"name\":\"notification_type\",\"kind\":\"Any\",\"default\":null},{\"name\":\"_destroyed\",\"kind\":\"Any\",\"default\":false}]},{\"type\":\"model\",\"name\":\"TemplateActions1\",\"properties\":[{\"name\":\"open_modal\",\"kind\":\"Any\",\"default\":0},{\"name\":\"close_modal\",\"kind\":\"Any\",\"default\":0}]},{\"type\":\"model\",\"name\":\"BootstrapTemplateActions1\",\"properties\":[{\"name\":\"open_modal\",\"kind\":\"Any\",\"default\":0},{\"name\":\"close_modal\",\"kind\":\"Any\",\"default\":0}]},{\"type\":\"model\",\"name\":\"TemplateEditor1\",\"properties\":[{\"name\":\"layout\",\"kind\":\"Any\",\"default\":[]}]},{\"type\":\"model\",\"name\":\"MaterialTemplateActions1\",\"properties\":[{\"name\":\"open_modal\",\"kind\":\"Any\",\"default\":0},{\"name\":\"close_modal\",\"kind\":\"Any\",\"default\":0}]},{\"type\":\"model\",\"name\":\"copy_to_clipboard1\",\"properties\":[{\"name\":\"fill\",\"kind\":\"Any\",\"default\":\"none\"},{\"name\":\"value\",\"kind\":\"Any\",\"default\":null}]}]}};\n",
       "  var render_items = [{\"docid\":\"d45bc430-0813-49e4-a07c-f9ec006d4fe6\",\"roots\":{\"p1454\":\"d0be20f0-5be8-4056-8220-86d2550e5af7\"},\"root_ids\":[\"p1454\"]}];\n",
       "  var docs = Object.values(docs_json)\n",
       "  if (!docs) {\n",
       "    return\n",
       "  }\n",
       "  const py_version = docs[0].version.replace('rc', '-rc.').replace('.dev', '-dev.')\n",
       "  function embed_document(root) {\n",
       "    var Bokeh = get_bokeh(root)\n",
       "    Bokeh.embed.embed_items_notebook(docs_json, render_items);\n",
       "    for (const render_item of render_items) {\n",
       "      for (const root_id of render_item.root_ids) {\n",
       "\tconst id_el = document.getElementById(root_id)\n",
       "\tif (id_el.children.length && (id_el.children[0].className === 'bk-root')) {\n",
       "\t  const root_el = id_el.children[0]\n",
       "\t  root_el.id = root_el.id + '-rendered'\n",
       "\t}\n",
       "      }\n",
       "    }\n",
       "  }\n",
       "  function get_bokeh(root) {\n",
       "    if (root.Bokeh === undefined) {\n",
       "      return null\n",
       "    } else if (root.Bokeh.version !== py_version) {\n",
       "      if (root.Bokeh.versions === undefined || !root.Bokeh.versions.has(py_version)) {\n",
       "\treturn null\n",
       "      }\n",
       "      return root.Bokeh.versions.get(py_version);\n",
       "    } else if (root.Bokeh.version === py_version) {\n",
       "      return root.Bokeh\n",
       "    }\n",
       "    return null\n",
       "  }\n",
       "  function is_loaded(root) {\n",
       "    var Bokeh = get_bokeh(root)\n",
       "    return (Bokeh != null && Bokeh.Panel !== undefined)\n",
       "  }\n",
       "  if (is_loaded(root)) {\n",
       "    embed_document(root);\n",
       "  } else {\n",
       "    var attempts = 0;\n",
       "    var timer = setInterval(function(root) {\n",
       "      if (is_loaded(root)) {\n",
       "        clearInterval(timer);\n",
       "        embed_document(root);\n",
       "      } else if (document.readyState == \"complete\") {\n",
       "        attempts++;\n",
       "        if (attempts > 200) {\n",
       "          clearInterval(timer);\n",
       "\t  var Bokeh = get_bokeh(root)\n",
       "\t  if (Bokeh == null || Bokeh.Panel == null) {\n",
       "            console.warn(\"Panel: ERROR: Unable to run Panel code because Bokeh or Panel library is missing\");\n",
       "\t  } else {\n",
       "\t    console.warn(\"Panel: WARNING: Attempting to render but not all required libraries could be resolved.\")\n",
       "\t    embed_document(root)\n",
       "\t  }\n",
       "        }\n",
       "      }\n",
       "    }, 25, root)\n",
       "  }\n",
       "})(window);</script>"
      ],
      "text/plain": [
       ":Curve   [Date]   (Close)"
      ]
     },
     "execution_count": 36,
     "metadata": {
      "application/vnd.holoviews_exec.v0+json": {
       "id": "p1454"
      }
     },
     "output_type": "execute_result"
    }
   ],
   "source": [
    "# Plot daily returns\n",
    "\n",
    "daily_return_plot = pct_change_df.hvplot.line(\n",
    "    xlabel='Date',\n",
    "    ylabel = 'Percent Change',\n",
    "    title= 'Daily Returns')\n",
    "\n",
    "daily_return_plot"
   ]
  },
  {
   "cell_type": "code",
   "execution_count": 37,
   "metadata": {},
   "outputs": [
    {
     "data": {
      "text/plain": [
       "0.004856741667554545"
      ]
     },
     "execution_count": 37,
     "metadata": {},
     "output_type": "execute_result"
    }
   ],
   "source": [
    "#Calculate the standard deviation of daily exchange rates\n",
    "\n",
    "hed_std = pct_change_df.std()\n",
    "hed_std"
   ]
  },
  {
   "cell_type": "code",
   "execution_count": 38,
   "metadata": {},
   "outputs": [
    {
     "data": {},
     "metadata": {},
     "output_type": "display_data"
    },
    {
     "data": {
      "application/vnd.holoviews_exec.v0+json": "",
      "text/html": [
       "<div id='p1529'>\n",
       "  <div id=\"bfe76067-ba22-446a-bae2-c74bc8fa8773\" data-root-id=\"p1529\" style=\"display: contents;\"></div>\n",
       "</div>\n",
       "<script type=\"application/javascript\">(function(root) {\n",
       "  var docs_json = {\"dd2cee49-1171-4f6c-a353-62acc772d14a\":{\"version\":\"3.4.0\",\"title\":\"Bokeh Application\",\"roots\":[{\"type\":\"object\",\"name\":\"Row\",\"id\":\"p1529\",\"attributes\":{\"name\":\"Row01694\",\"tags\":[\"embedded\"],\"stylesheets\":[\"\\n:host(.pn-loading):before, .pn-loading:before {\\n  background-color: #c3c3c3;\\n  mask-size: auto calc(min(50%, 400px));\\n  -webkit-mask-size: auto calc(min(50%, 400px));\\n}\",{\"type\":\"object\",\"name\":\"ImportedStyleSheet\",\"id\":\"p1532\",\"attributes\":{\"url\":\"https://cdn.holoviz.org/panel/1.4.1/dist/css/loading.css\"}},{\"type\":\"object\",\"name\":\"ImportedStyleSheet\",\"id\":\"p1600\",\"attributes\":{\"url\":\"https://cdn.holoviz.org/panel/1.4.1/dist/css/listpanel.css\"}},{\"type\":\"object\",\"name\":\"ImportedStyleSheet\",\"id\":\"p1530\",\"attributes\":{\"url\":\"https://cdn.holoviz.org/panel/1.4.1/dist/bundled/theme/default.css\"}},{\"type\":\"object\",\"name\":\"ImportedStyleSheet\",\"id\":\"p1531\",\"attributes\":{\"url\":\"https://cdn.holoviz.org/panel/1.4.1/dist/bundled/theme/native.css\"}}],\"min_width\":700,\"margin\":0,\"sizing_mode\":\"stretch_width\",\"align\":\"start\",\"children\":[{\"type\":\"object\",\"name\":\"Spacer\",\"id\":\"p1533\",\"attributes\":{\"name\":\"HSpacer01701\",\"stylesheets\":[\"\\n:host(.pn-loading):before, .pn-loading:before {\\n  background-color: #c3c3c3;\\n  mask-size: auto calc(min(50%, 400px));\\n  -webkit-mask-size: auto calc(min(50%, 400px));\\n}\",{\"id\":\"p1532\"},{\"id\":\"p1530\"},{\"id\":\"p1531\"}],\"margin\":0,\"sizing_mode\":\"stretch_width\",\"align\":\"start\"}},{\"type\":\"object\",\"name\":\"Figure\",\"id\":\"p1541\",\"attributes\":{\"width\":700,\"height\":300,\"margin\":[5,10],\"sizing_mode\":\"fixed\",\"align\":\"start\",\"x_range\":{\"type\":\"object\",\"name\":\"Range1d\",\"id\":\"p1534\",\"attributes\":{\"tags\":[[[\"Date\",\"Date\",null]],[]],\"start\":1641168000000.0,\"end\":1714435200000.0,\"reset_start\":1641168000000.0,\"reset_end\":1714435200000.0}},\"y_range\":{\"type\":\"object\",\"name\":\"Range1d\",\"id\":\"p1535\",\"attributes\":{\"tags\":[[[\"Close\",\"Close\",null]],{\"type\":\"map\",\"entries\":[[\"invert_yaxis\",false],[\"autorange\",false]]}],\"start\":0.0014187102216868881,\"end\":0.009090475033679993,\"reset_start\":0.0014187102216868881,\"reset_end\":0.009090475033679993}},\"x_scale\":{\"type\":\"object\",\"name\":\"LinearScale\",\"id\":\"p1551\"},\"y_scale\":{\"type\":\"object\",\"name\":\"LinearScale\",\"id\":\"p1552\"},\"title\":{\"type\":\"object\",\"name\":\"Title\",\"id\":\"p1544\",\"attributes\":{\"text\":\"21 Day Rolling Standard Deviation\",\"text_color\":\"black\",\"text_font_size\":\"12pt\"}},\"renderers\":[{\"type\":\"object\",\"name\":\"GlyphRenderer\",\"id\":\"p1593\",\"attributes\":{\"data_source\":{\"type\":\"object\",\"name\":\"ColumnDataSource\",\"id\":\"p1584\",\"attributes\":{\"selected\":{\"type\":\"object\",\"name\":\"Selection\",\"id\":\"p1585\",\"attributes\":{\"indices\":[],\"line_indices\":[]}},\"selection_policy\":{\"type\":\"object\",\"name\":\"UnionRenderers\",\"id\":\"p1586\"},\"data\":{\"type\":\"map\",\"entries\":[[\"Date\",{\"type\":\"ndarray\",\"array\":{\"type\":\"bytes\",\"data\":\"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\"},\"shape\":[715],\"dtype\":\"float64\",\"order\":\"little\"}],[\"Close\",{\"type\":\"ndarray\",\"array\":{\"type\":\"bytes\",\"data\":\"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\"},\"shape\":[715],\"dtype\":\"float64\",\"order\":\"little\"}]]}}},\"view\":{\"type\":\"object\",\"name\":\"CDSView\",\"id\":\"p1594\",\"attributes\":{\"filter\":{\"type\":\"object\",\"name\":\"AllIndices\",\"id\":\"p1595\"}}},\"glyph\":{\"type\":\"object\",\"name\":\"Line\",\"id\":\"p1590\",\"attributes\":{\"tags\":[\"apply_ranges\"],\"x\":{\"type\":\"field\",\"field\":\"Date\"},\"y\":{\"type\":\"field\",\"field\":\"Close\"},\"line_color\":\"#30a2da\",\"line_width\":2}},\"selection_glyph\":{\"type\":\"object\",\"name\":\"Line\",\"id\":\"p1596\",\"attributes\":{\"tags\":[\"apply_ranges\"],\"x\":{\"type\":\"field\",\"field\":\"Date\"},\"y\":{\"type\":\"field\",\"field\":\"Close\"},\"line_color\":\"#30a2da\",\"line_width\":2}},\"nonselection_glyph\":{\"type\":\"object\",\"name\":\"Line\",\"id\":\"p1591\",\"attributes\":{\"tags\":[\"apply_ranges\"],\"x\":{\"type\":\"field\",\"field\":\"Date\"},\"y\":{\"type\":\"field\",\"field\":\"Close\"},\"line_color\":\"#30a2da\",\"line_alpha\":0.1,\"line_width\":2}},\"muted_glyph\":{\"type\":\"object\",\"name\":\"Line\",\"id\":\"p1592\",\"attributes\":{\"tags\":[\"apply_ranges\"],\"x\":{\"type\":\"field\",\"field\":\"Date\"},\"y\":{\"type\":\"field\",\"field\":\"Close\"},\"line_color\":\"#30a2da\",\"line_alpha\":0.2,\"line_width\":2}}}}],\"toolbar\":{\"type\":\"object\",\"name\":\"Toolbar\",\"id\":\"p1550\",\"attributes\":{\"tools\":[{\"type\":\"object\",\"name\":\"WheelZoomTool\",\"id\":\"p1539\",\"attributes\":{\"tags\":[\"hv_created\"],\"renderers\":\"auto\",\"zoom_together\":\"none\"}},{\"type\":\"object\",\"name\":\"HoverTool\",\"id\":\"p1540\",\"attributes\":{\"tags\":[\"hv_created\"],\"renderers\":[{\"id\":\"p1593\"}],\"tooltips\":[[\"Date\",\"@{Date}{%F %T}\"],[\"Close\",\"@{Close}\"]],\"formatters\":{\"type\":\"map\",\"entries\":[[\"@{Date}\",\"datetime\"]]}}},{\"type\":\"object\",\"name\":\"SaveTool\",\"id\":\"p1575\"},{\"type\":\"object\",\"name\":\"PanTool\",\"id\":\"p1576\"},{\"type\":\"object\",\"name\":\"BoxZoomTool\",\"id\":\"p1577\",\"attributes\":{\"overlay\":{\"type\":\"object\",\"name\":\"BoxAnnotation\",\"id\":\"p1578\",\"attributes\":{\"syncable\":false,\"level\":\"overlay\",\"visible\":false,\"left\":{\"type\":\"number\",\"value\":\"nan\"},\"right\":{\"type\":\"number\",\"value\":\"nan\"},\"top\":{\"type\":\"number\",\"value\":\"nan\"},\"bottom\":{\"type\":\"number\",\"value\":\"nan\"},\"left_units\":\"canvas\",\"right_units\":\"canvas\",\"top_units\":\"canvas\",\"bottom_units\":\"canvas\",\"line_color\":\"black\",\"line_alpha\":1.0,\"line_width\":2,\"line_dash\":[4,4],\"fill_color\":\"lightgrey\",\"fill_alpha\":0.5}}}},{\"type\":\"object\",\"name\":\"ResetTool\",\"id\":\"p1583\"}],\"active_drag\":{\"id\":\"p1576\"},\"active_scroll\":{\"id\":\"p1539\"}}},\"left\":[{\"type\":\"object\",\"name\":\"LinearAxis\",\"id\":\"p1570\",\"attributes\":{\"ticker\":{\"type\":\"object\",\"name\":\"BasicTicker\",\"id\":\"p1571\",\"attributes\":{\"mantissas\":[1,2,5]}},\"formatter\":{\"type\":\"object\",\"name\":\"BasicTickFormatter\",\"id\":\"p1572\"},\"axis_label\":\"Percent Change\",\"major_label_policy\":{\"type\":\"object\",\"name\":\"AllLabels\",\"id\":\"p1573\"}}}],\"below\":[{\"type\":\"object\",\"name\":\"DatetimeAxis\",\"id\":\"p1553\",\"attributes\":{\"ticker\":{\"type\":\"object\",\"name\":\"DatetimeTicker\",\"id\":\"p1554\",\"attributes\":{\"num_minor_ticks\":5,\"tickers\":[{\"type\":\"object\",\"name\":\"AdaptiveTicker\",\"id\":\"p1555\",\"attributes\":{\"num_minor_ticks\":0,\"mantissas\":[1,2,5],\"max_interval\":500.0}},{\"type\":\"object\",\"name\":\"AdaptiveTicker\",\"id\":\"p1556\",\"attributes\":{\"num_minor_ticks\":0,\"base\":60,\"mantissas\":[1,2,5,10,15,20,30],\"min_interval\":1000.0,\"max_interval\":1800000.0}},{\"type\":\"object\",\"name\":\"AdaptiveTicker\",\"id\":\"p1557\",\"attributes\":{\"num_minor_ticks\":0,\"base\":24,\"mantissas\":[1,2,4,6,8,12],\"min_interval\":3600000.0,\"max_interval\":43200000.0}},{\"type\":\"object\",\"name\":\"DaysTicker\",\"id\":\"p1558\",\"attributes\":{\"days\":[1,2,3,4,5,6,7,8,9,10,11,12,13,14,15,16,17,18,19,20,21,22,23,24,25,26,27,28,29,30,31]}},{\"type\":\"object\",\"name\":\"DaysTicker\",\"id\":\"p1559\",\"attributes\":{\"days\":[1,4,7,10,13,16,19,22,25,28]}},{\"type\":\"object\",\"name\":\"DaysTicker\",\"id\":\"p1560\",\"attributes\":{\"days\":[1,8,15,22]}},{\"type\":\"object\",\"name\":\"DaysTicker\",\"id\":\"p1561\",\"attributes\":{\"days\":[1,15]}},{\"type\":\"object\",\"name\":\"MonthsTicker\",\"id\":\"p1562\",\"attributes\":{\"months\":[0,1,2,3,4,5,6,7,8,9,10,11]}},{\"type\":\"object\",\"name\":\"MonthsTicker\",\"id\":\"p1563\",\"attributes\":{\"months\":[0,2,4,6,8,10]}},{\"type\":\"object\",\"name\":\"MonthsTicker\",\"id\":\"p1564\",\"attributes\":{\"months\":[0,4,8]}},{\"type\":\"object\",\"name\":\"MonthsTicker\",\"id\":\"p1565\",\"attributes\":{\"months\":[0,6]}},{\"type\":\"object\",\"name\":\"YearsTicker\",\"id\":\"p1566\"}]}},\"formatter\":{\"type\":\"object\",\"name\":\"DatetimeTickFormatter\",\"id\":\"p1567\"},\"axis_label\":\"Date\",\"major_label_policy\":{\"type\":\"object\",\"name\":\"AllLabels\",\"id\":\"p1568\"}}}],\"center\":[{\"type\":\"object\",\"name\":\"Grid\",\"id\":\"p1569\",\"attributes\":{\"axis\":{\"id\":\"p1553\"},\"grid_line_color\":null}},{\"type\":\"object\",\"name\":\"Grid\",\"id\":\"p1574\",\"attributes\":{\"dimension\":1,\"axis\":{\"id\":\"p1570\"},\"grid_line_color\":null}}],\"min_border_top\":10,\"min_border_bottom\":10,\"min_border_left\":10,\"min_border_right\":10,\"output_backend\":\"webgl\"}},{\"type\":\"object\",\"name\":\"Spacer\",\"id\":\"p1598\",\"attributes\":{\"name\":\"HSpacer01702\",\"stylesheets\":[\"\\n:host(.pn-loading):before, .pn-loading:before {\\n  background-color: #c3c3c3;\\n  mask-size: auto calc(min(50%, 400px));\\n  -webkit-mask-size: auto calc(min(50%, 400px));\\n}\",{\"id\":\"p1532\"},{\"id\":\"p1530\"},{\"id\":\"p1531\"}],\"margin\":0,\"sizing_mode\":\"stretch_width\",\"align\":\"start\"}}]}}],\"defs\":[{\"type\":\"model\",\"name\":\"ReactiveHTML1\"},{\"type\":\"model\",\"name\":\"FlexBox1\",\"properties\":[{\"name\":\"align_content\",\"kind\":\"Any\",\"default\":\"flex-start\"},{\"name\":\"align_items\",\"kind\":\"Any\",\"default\":\"flex-start\"},{\"name\":\"flex_direction\",\"kind\":\"Any\",\"default\":\"row\"},{\"name\":\"flex_wrap\",\"kind\":\"Any\",\"default\":\"wrap\"},{\"name\":\"gap\",\"kind\":\"Any\",\"default\":\"\"},{\"name\":\"justify_content\",\"kind\":\"Any\",\"default\":\"flex-start\"}]},{\"type\":\"model\",\"name\":\"FloatPanel1\",\"properties\":[{\"name\":\"config\",\"kind\":\"Any\",\"default\":{\"type\":\"map\"}},{\"name\":\"contained\",\"kind\":\"Any\",\"default\":true},{\"name\":\"position\",\"kind\":\"Any\",\"default\":\"right-top\"},{\"name\":\"offsetx\",\"kind\":\"Any\",\"default\":null},{\"name\":\"offsety\",\"kind\":\"Any\",\"default\":null},{\"name\":\"theme\",\"kind\":\"Any\",\"default\":\"primary\"},{\"name\":\"status\",\"kind\":\"Any\",\"default\":\"normalized\"}]},{\"type\":\"model\",\"name\":\"GridStack1\",\"properties\":[{\"name\":\"mode\",\"kind\":\"Any\",\"default\":\"warn\"},{\"name\":\"ncols\",\"kind\":\"Any\",\"default\":null},{\"name\":\"nrows\",\"kind\":\"Any\",\"default\":null},{\"name\":\"allow_resize\",\"kind\":\"Any\",\"default\":true},{\"name\":\"allow_drag\",\"kind\":\"Any\",\"default\":true},{\"name\":\"state\",\"kind\":\"Any\",\"default\":[]}]},{\"type\":\"model\",\"name\":\"drag1\",\"properties\":[{\"name\":\"slider_width\",\"kind\":\"Any\",\"default\":5},{\"name\":\"slider_color\",\"kind\":\"Any\",\"default\":\"black\"},{\"name\":\"value\",\"kind\":\"Any\",\"default\":50}]},{\"type\":\"model\",\"name\":\"click1\",\"properties\":[{\"name\":\"terminal_output\",\"kind\":\"Any\",\"default\":\"\"},{\"name\":\"debug_name\",\"kind\":\"Any\",\"default\":\"\"},{\"name\":\"clears\",\"kind\":\"Any\",\"default\":0}]},{\"type\":\"model\",\"name\":\"FastWrapper1\",\"properties\":[{\"name\":\"object\",\"kind\":\"Any\",\"default\":null},{\"name\":\"style\",\"kind\":\"Any\",\"default\":null}]},{\"type\":\"model\",\"name\":\"NotificationAreaBase1\",\"properties\":[{\"name\":\"js_events\",\"kind\":\"Any\",\"default\":{\"type\":\"map\"}},{\"name\":\"position\",\"kind\":\"Any\",\"default\":\"bottom-right\"},{\"name\":\"_clear\",\"kind\":\"Any\",\"default\":0}]},{\"type\":\"model\",\"name\":\"NotificationArea1\",\"properties\":[{\"name\":\"js_events\",\"kind\":\"Any\",\"default\":{\"type\":\"map\"}},{\"name\":\"notifications\",\"kind\":\"Any\",\"default\":[]},{\"name\":\"position\",\"kind\":\"Any\",\"default\":\"bottom-right\"},{\"name\":\"_clear\",\"kind\":\"Any\",\"default\":0},{\"name\":\"types\",\"kind\":\"Any\",\"default\":[{\"type\":\"map\",\"entries\":[[\"type\",\"warning\"],[\"background\",\"#ffc107\"],[\"icon\",{\"type\":\"map\",\"entries\":[[\"className\",\"fas fa-exclamation-triangle\"],[\"tagName\",\"i\"],[\"color\",\"white\"]]}]]},{\"type\":\"map\",\"entries\":[[\"type\",\"info\"],[\"background\",\"#007bff\"],[\"icon\",{\"type\":\"map\",\"entries\":[[\"className\",\"fas fa-info-circle\"],[\"tagName\",\"i\"],[\"color\",\"white\"]]}]]}]}]},{\"type\":\"model\",\"name\":\"Notification\",\"properties\":[{\"name\":\"background\",\"kind\":\"Any\",\"default\":null},{\"name\":\"duration\",\"kind\":\"Any\",\"default\":3000},{\"name\":\"icon\",\"kind\":\"Any\",\"default\":null},{\"name\":\"message\",\"kind\":\"Any\",\"default\":\"\"},{\"name\":\"notification_type\",\"kind\":\"Any\",\"default\":null},{\"name\":\"_destroyed\",\"kind\":\"Any\",\"default\":false}]},{\"type\":\"model\",\"name\":\"TemplateActions1\",\"properties\":[{\"name\":\"open_modal\",\"kind\":\"Any\",\"default\":0},{\"name\":\"close_modal\",\"kind\":\"Any\",\"default\":0}]},{\"type\":\"model\",\"name\":\"BootstrapTemplateActions1\",\"properties\":[{\"name\":\"open_modal\",\"kind\":\"Any\",\"default\":0},{\"name\":\"close_modal\",\"kind\":\"Any\",\"default\":0}]},{\"type\":\"model\",\"name\":\"TemplateEditor1\",\"properties\":[{\"name\":\"layout\",\"kind\":\"Any\",\"default\":[]}]},{\"type\":\"model\",\"name\":\"MaterialTemplateActions1\",\"properties\":[{\"name\":\"open_modal\",\"kind\":\"Any\",\"default\":0},{\"name\":\"close_modal\",\"kind\":\"Any\",\"default\":0}]},{\"type\":\"model\",\"name\":\"copy_to_clipboard1\",\"properties\":[{\"name\":\"fill\",\"kind\":\"Any\",\"default\":\"none\"},{\"name\":\"value\",\"kind\":\"Any\",\"default\":null}]}]}};\n",
       "  var render_items = [{\"docid\":\"dd2cee49-1171-4f6c-a353-62acc772d14a\",\"roots\":{\"p1529\":\"bfe76067-ba22-446a-bae2-c74bc8fa8773\"},\"root_ids\":[\"p1529\"]}];\n",
       "  var docs = Object.values(docs_json)\n",
       "  if (!docs) {\n",
       "    return\n",
       "  }\n",
       "  const py_version = docs[0].version.replace('rc', '-rc.').replace('.dev', '-dev.')\n",
       "  function embed_document(root) {\n",
       "    var Bokeh = get_bokeh(root)\n",
       "    Bokeh.embed.embed_items_notebook(docs_json, render_items);\n",
       "    for (const render_item of render_items) {\n",
       "      for (const root_id of render_item.root_ids) {\n",
       "\tconst id_el = document.getElementById(root_id)\n",
       "\tif (id_el.children.length && (id_el.children[0].className === 'bk-root')) {\n",
       "\t  const root_el = id_el.children[0]\n",
       "\t  root_el.id = root_el.id + '-rendered'\n",
       "\t}\n",
       "      }\n",
       "    }\n",
       "  }\n",
       "  function get_bokeh(root) {\n",
       "    if (root.Bokeh === undefined) {\n",
       "      return null\n",
       "    } else if (root.Bokeh.version !== py_version) {\n",
       "      if (root.Bokeh.versions === undefined || !root.Bokeh.versions.has(py_version)) {\n",
       "\treturn null\n",
       "      }\n",
       "      return root.Bokeh.versions.get(py_version);\n",
       "    } else if (root.Bokeh.version === py_version) {\n",
       "      return root.Bokeh\n",
       "    }\n",
       "    return null\n",
       "  }\n",
       "  function is_loaded(root) {\n",
       "    var Bokeh = get_bokeh(root)\n",
       "    return (Bokeh != null && Bokeh.Panel !== undefined)\n",
       "  }\n",
       "  if (is_loaded(root)) {\n",
       "    embed_document(root);\n",
       "  } else {\n",
       "    var attempts = 0;\n",
       "    var timer = setInterval(function(root) {\n",
       "      if (is_loaded(root)) {\n",
       "        clearInterval(timer);\n",
       "        embed_document(root);\n",
       "      } else if (document.readyState == \"complete\") {\n",
       "        attempts++;\n",
       "        if (attempts > 200) {\n",
       "          clearInterval(timer);\n",
       "\t  var Bokeh = get_bokeh(root)\n",
       "\t  if (Bokeh == null || Bokeh.Panel == null) {\n",
       "            console.warn(\"Panel: ERROR: Unable to run Panel code because Bokeh or Panel library is missing\");\n",
       "\t  } else {\n",
       "\t    console.warn(\"Panel: WARNING: Attempting to render but not all required libraries could be resolved.\")\n",
       "\t    embed_document(root)\n",
       "\t  }\n",
       "        }\n",
       "      }\n",
       "    }, 25, root)\n",
       "  }\n",
       "})(window);</script>"
      ],
      "text/plain": [
       ":Curve   [Date]   (Close)"
      ]
     },
     "execution_count": 38,
     "metadata": {
      "application/vnd.holoviews_exec.v0+json": {
       "id": "p1529"
      }
     },
     "output_type": "execute_result"
    }
   ],
   "source": [
    "#Calculate rolling standard deviation for 21-day window\n",
    "\n",
    "rolling_std = pct_change_df.rolling(window= 21).std()\n",
    "\n",
    "#Plot rolling standard deviation \n",
    "rolling_std_plot = rolling_std.hvplot(\n",
    "    xlabel='Date',\n",
    "    ylabel = 'Percent Change',\n",
    "    title= '21 Day Rolling Standard Deviation'\n",
    "    )\n",
    "\n",
    "rolling_std_plot"
   ]
  },
  {
   "cell_type": "code",
   "execution_count": 39,
   "metadata": {},
   "outputs": [
    {
     "data": {
      "text/plain": [
       "0.07709838380660679"
      ]
     },
     "execution_count": 39,
     "metadata": {},
     "output_type": "execute_result"
    }
   ],
   "source": [
    "#Calculate the annualized standard deviation (252 trading days)\n",
    "\n",
    "annualized_std = hed_std * np.sqrt(252)\n",
    "annualized_std"
   ]
  },
  {
   "cell_type": "code",
   "execution_count": 40,
   "metadata": {},
   "outputs": [
    {
     "data": {},
     "metadata": {},
     "output_type": "display_data"
    },
    {
     "data": {
      "application/vnd.holoviews_exec.v0+json": "",
      "text/html": [
       "<div id='p1604'>\n",
       "  <div id=\"b196bcc2-bd79-4d17-af41-bd7273fd4ec3\" data-root-id=\"p1604\" style=\"display: contents;\"></div>\n",
       "</div>\n",
       "<script type=\"application/javascript\">(function(root) {\n",
       "  var docs_json = {\"e88af65a-cc96-49c1-8d94-6c39048cc782\":{\"version\":\"3.4.0\",\"title\":\"Bokeh Application\",\"roots\":[{\"type\":\"object\",\"name\":\"Row\",\"id\":\"p1604\",\"attributes\":{\"name\":\"Row01802\",\"tags\":[\"embedded\"],\"stylesheets\":[\"\\n:host(.pn-loading):before, .pn-loading:before {\\n  background-color: #c3c3c3;\\n  mask-size: auto calc(min(50%, 400px));\\n  -webkit-mask-size: auto calc(min(50%, 400px));\\n}\",{\"type\":\"object\",\"name\":\"ImportedStyleSheet\",\"id\":\"p1607\",\"attributes\":{\"url\":\"https://cdn.holoviz.org/panel/1.4.1/dist/css/loading.css\"}},{\"type\":\"object\",\"name\":\"ImportedStyleSheet\",\"id\":\"p1675\",\"attributes\":{\"url\":\"https://cdn.holoviz.org/panel/1.4.1/dist/css/listpanel.css\"}},{\"type\":\"object\",\"name\":\"ImportedStyleSheet\",\"id\":\"p1605\",\"attributes\":{\"url\":\"https://cdn.holoviz.org/panel/1.4.1/dist/bundled/theme/default.css\"}},{\"type\":\"object\",\"name\":\"ImportedStyleSheet\",\"id\":\"p1606\",\"attributes\":{\"url\":\"https://cdn.holoviz.org/panel/1.4.1/dist/bundled/theme/native.css\"}}],\"min_width\":700,\"margin\":0,\"sizing_mode\":\"stretch_width\",\"align\":\"start\",\"children\":[{\"type\":\"object\",\"name\":\"Spacer\",\"id\":\"p1608\",\"attributes\":{\"name\":\"HSpacer01809\",\"stylesheets\":[\"\\n:host(.pn-loading):before, .pn-loading:before {\\n  background-color: #c3c3c3;\\n  mask-size: auto calc(min(50%, 400px));\\n  -webkit-mask-size: auto calc(min(50%, 400px));\\n}\",{\"id\":\"p1607\"},{\"id\":\"p1605\"},{\"id\":\"p1606\"}],\"margin\":0,\"sizing_mode\":\"stretch_width\",\"align\":\"start\"}},{\"type\":\"object\",\"name\":\"Figure\",\"id\":\"p1616\",\"attributes\":{\"width\":700,\"height\":300,\"margin\":[5,10],\"sizing_mode\":\"fixed\",\"align\":\"start\",\"x_range\":{\"type\":\"object\",\"name\":\"Range1d\",\"id\":\"p1609\",\"attributes\":{\"tags\":[[[\"Date\",\"Date\",null]],[]],\"start\":1641081600000.0,\"end\":1714435200000.0,\"reset_start\":1641081600000.0,\"reset_end\":1714435200000.0}},\"y_range\":{\"type\":\"object\",\"name\":\"Range1d\",\"id\":\"p1610\",\"attributes\":{\"tags\":[[[\"Close\",\"Close\",null]],{\"type\":\"map\",\"entries\":[[\"invert_yaxis\",false],[\"autorange\",false]]}],\"start\":0.93687,\"end\":1.16643,\"reset_start\":0.93687,\"reset_end\":1.16643}},\"x_scale\":{\"type\":\"object\",\"name\":\"LinearScale\",\"id\":\"p1626\"},\"y_scale\":{\"type\":\"object\",\"name\":\"LinearScale\",\"id\":\"p1627\"},\"title\":{\"type\":\"object\",\"name\":\"Title\",\"id\":\"p1619\",\"attributes\":{\"text\":\"USD/Euro Closing Prices\",\"text_color\":\"black\",\"text_font_size\":\"12pt\"}},\"renderers\":[{\"type\":\"object\",\"name\":\"GlyphRenderer\",\"id\":\"p1668\",\"attributes\":{\"data_source\":{\"type\":\"object\",\"name\":\"ColumnDataSource\",\"id\":\"p1659\",\"attributes\":{\"selected\":{\"type\":\"object\",\"name\":\"Selection\",\"id\":\"p1660\",\"attributes\":{\"indices\":[],\"line_indices\":[]}},\"selection_policy\":{\"type\":\"object\",\"name\":\"UnionRenderers\",\"id\":\"p1661\"},\"data\":{\"type\":\"map\",\"entries\":[[\"Date\",{\"type\":\"ndarray\",\"array\":{\"type\":\"bytes\",\"data\":\"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\"},\"shape\":[716],\"dtype\":\"float64\",\"order\":\"little\"}],[\"Close\",{\"type\":\"ndarray\",\"array\":{\"type\":\"bytes\",\"data\":\"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\"},\"shape\":[716],\"dtype\":\"float64\",\"order\":\"little\"}]]}}},\"view\":{\"type\":\"object\",\"name\":\"CDSView\",\"id\":\"p1669\",\"attributes\":{\"filter\":{\"type\":\"object\",\"name\":\"AllIndices\",\"id\":\"p1670\"}}},\"glyph\":{\"type\":\"object\",\"name\":\"Line\",\"id\":\"p1665\",\"attributes\":{\"tags\":[\"apply_ranges\"],\"x\":{\"type\":\"field\",\"field\":\"Date\"},\"y\":{\"type\":\"field\",\"field\":\"Close\"},\"line_color\":\"#30a2da\",\"line_width\":2}},\"selection_glyph\":{\"type\":\"object\",\"name\":\"Line\",\"id\":\"p1671\",\"attributes\":{\"tags\":[\"apply_ranges\"],\"x\":{\"type\":\"field\",\"field\":\"Date\"},\"y\":{\"type\":\"field\",\"field\":\"Close\"},\"line_color\":\"#30a2da\",\"line_width\":2}},\"nonselection_glyph\":{\"type\":\"object\",\"name\":\"Line\",\"id\":\"p1666\",\"attributes\":{\"tags\":[\"apply_ranges\"],\"x\":{\"type\":\"field\",\"field\":\"Date\"},\"y\":{\"type\":\"field\",\"field\":\"Close\"},\"line_color\":\"#30a2da\",\"line_alpha\":0.1,\"line_width\":2}},\"muted_glyph\":{\"type\":\"object\",\"name\":\"Line\",\"id\":\"p1667\",\"attributes\":{\"tags\":[\"apply_ranges\"],\"x\":{\"type\":\"field\",\"field\":\"Date\"},\"y\":{\"type\":\"field\",\"field\":\"Close\"},\"line_color\":\"#30a2da\",\"line_alpha\":0.2,\"line_width\":2}}}}],\"toolbar\":{\"type\":\"object\",\"name\":\"Toolbar\",\"id\":\"p1625\",\"attributes\":{\"tools\":[{\"type\":\"object\",\"name\":\"WheelZoomTool\",\"id\":\"p1614\",\"attributes\":{\"tags\":[\"hv_created\"],\"renderers\":\"auto\",\"zoom_together\":\"none\"}},{\"type\":\"object\",\"name\":\"HoverTool\",\"id\":\"p1615\",\"attributes\":{\"tags\":[\"hv_created\"],\"renderers\":[{\"id\":\"p1668\"}],\"tooltips\":[[\"Date\",\"@{Date}{%F %T}\"],[\"Close\",\"@{Close}\"]],\"formatters\":{\"type\":\"map\",\"entries\":[[\"@{Date}\",\"datetime\"]]}}},{\"type\":\"object\",\"name\":\"SaveTool\",\"id\":\"p1650\"},{\"type\":\"object\",\"name\":\"PanTool\",\"id\":\"p1651\"},{\"type\":\"object\",\"name\":\"BoxZoomTool\",\"id\":\"p1652\",\"attributes\":{\"overlay\":{\"type\":\"object\",\"name\":\"BoxAnnotation\",\"id\":\"p1653\",\"attributes\":{\"syncable\":false,\"level\":\"overlay\",\"visible\":false,\"left\":{\"type\":\"number\",\"value\":\"nan\"},\"right\":{\"type\":\"number\",\"value\":\"nan\"},\"top\":{\"type\":\"number\",\"value\":\"nan\"},\"bottom\":{\"type\":\"number\",\"value\":\"nan\"},\"left_units\":\"canvas\",\"right_units\":\"canvas\",\"top_units\":\"canvas\",\"bottom_units\":\"canvas\",\"line_color\":\"black\",\"line_alpha\":1.0,\"line_width\":2,\"line_dash\":[4,4],\"fill_color\":\"lightgrey\",\"fill_alpha\":0.5}}}},{\"type\":\"object\",\"name\":\"ResetTool\",\"id\":\"p1658\"}],\"active_drag\":{\"id\":\"p1651\"},\"active_scroll\":{\"id\":\"p1614\"}}},\"left\":[{\"type\":\"object\",\"name\":\"LinearAxis\",\"id\":\"p1645\",\"attributes\":{\"ticker\":{\"type\":\"object\",\"name\":\"BasicTicker\",\"id\":\"p1646\",\"attributes\":{\"mantissas\":[1,2,5]}},\"formatter\":{\"type\":\"object\",\"name\":\"BasicTickFormatter\",\"id\":\"p1647\"},\"axis_label\":\"Close Price\",\"major_label_policy\":{\"type\":\"object\",\"name\":\"AllLabels\",\"id\":\"p1648\"}}}],\"below\":[{\"type\":\"object\",\"name\":\"DatetimeAxis\",\"id\":\"p1628\",\"attributes\":{\"ticker\":{\"type\":\"object\",\"name\":\"DatetimeTicker\",\"id\":\"p1629\",\"attributes\":{\"num_minor_ticks\":5,\"tickers\":[{\"type\":\"object\",\"name\":\"AdaptiveTicker\",\"id\":\"p1630\",\"attributes\":{\"num_minor_ticks\":0,\"mantissas\":[1,2,5],\"max_interval\":500.0}},{\"type\":\"object\",\"name\":\"AdaptiveTicker\",\"id\":\"p1631\",\"attributes\":{\"num_minor_ticks\":0,\"base\":60,\"mantissas\":[1,2,5,10,15,20,30],\"min_interval\":1000.0,\"max_interval\":1800000.0}},{\"type\":\"object\",\"name\":\"AdaptiveTicker\",\"id\":\"p1632\",\"attributes\":{\"num_minor_ticks\":0,\"base\":24,\"mantissas\":[1,2,4,6,8,12],\"min_interval\":3600000.0,\"max_interval\":43200000.0}},{\"type\":\"object\",\"name\":\"DaysTicker\",\"id\":\"p1633\",\"attributes\":{\"days\":[1,2,3,4,5,6,7,8,9,10,11,12,13,14,15,16,17,18,19,20,21,22,23,24,25,26,27,28,29,30,31]}},{\"type\":\"object\",\"name\":\"DaysTicker\",\"id\":\"p1634\",\"attributes\":{\"days\":[1,4,7,10,13,16,19,22,25,28]}},{\"type\":\"object\",\"name\":\"DaysTicker\",\"id\":\"p1635\",\"attributes\":{\"days\":[1,8,15,22]}},{\"type\":\"object\",\"name\":\"DaysTicker\",\"id\":\"p1636\",\"attributes\":{\"days\":[1,15]}},{\"type\":\"object\",\"name\":\"MonthsTicker\",\"id\":\"p1637\",\"attributes\":{\"months\":[0,1,2,3,4,5,6,7,8,9,10,11]}},{\"type\":\"object\",\"name\":\"MonthsTicker\",\"id\":\"p1638\",\"attributes\":{\"months\":[0,2,4,6,8,10]}},{\"type\":\"object\",\"name\":\"MonthsTicker\",\"id\":\"p1639\",\"attributes\":{\"months\":[0,4,8]}},{\"type\":\"object\",\"name\":\"MonthsTicker\",\"id\":\"p1640\",\"attributes\":{\"months\":[0,6]}},{\"type\":\"object\",\"name\":\"YearsTicker\",\"id\":\"p1641\"}]}},\"formatter\":{\"type\":\"object\",\"name\":\"DatetimeTickFormatter\",\"id\":\"p1642\"},\"axis_label\":\"Date\",\"major_label_policy\":{\"type\":\"object\",\"name\":\"AllLabels\",\"id\":\"p1643\"}}}],\"center\":[{\"type\":\"object\",\"name\":\"Grid\",\"id\":\"p1644\",\"attributes\":{\"axis\":{\"id\":\"p1628\"},\"grid_line_color\":null}},{\"type\":\"object\",\"name\":\"Grid\",\"id\":\"p1649\",\"attributes\":{\"dimension\":1,\"axis\":{\"id\":\"p1645\"},\"grid_line_color\":null}}],\"min_border_top\":10,\"min_border_bottom\":10,\"min_border_left\":10,\"min_border_right\":10,\"output_backend\":\"webgl\"}},{\"type\":\"object\",\"name\":\"Spacer\",\"id\":\"p1673\",\"attributes\":{\"name\":\"HSpacer01810\",\"stylesheets\":[\"\\n:host(.pn-loading):before, .pn-loading:before {\\n  background-color: #c3c3c3;\\n  mask-size: auto calc(min(50%, 400px));\\n  -webkit-mask-size: auto calc(min(50%, 400px));\\n}\",{\"id\":\"p1607\"},{\"id\":\"p1605\"},{\"id\":\"p1606\"}],\"margin\":0,\"sizing_mode\":\"stretch_width\",\"align\":\"start\"}}]}}],\"defs\":[{\"type\":\"model\",\"name\":\"ReactiveHTML1\"},{\"type\":\"model\",\"name\":\"FlexBox1\",\"properties\":[{\"name\":\"align_content\",\"kind\":\"Any\",\"default\":\"flex-start\"},{\"name\":\"align_items\",\"kind\":\"Any\",\"default\":\"flex-start\"},{\"name\":\"flex_direction\",\"kind\":\"Any\",\"default\":\"row\"},{\"name\":\"flex_wrap\",\"kind\":\"Any\",\"default\":\"wrap\"},{\"name\":\"gap\",\"kind\":\"Any\",\"default\":\"\"},{\"name\":\"justify_content\",\"kind\":\"Any\",\"default\":\"flex-start\"}]},{\"type\":\"model\",\"name\":\"FloatPanel1\",\"properties\":[{\"name\":\"config\",\"kind\":\"Any\",\"default\":{\"type\":\"map\"}},{\"name\":\"contained\",\"kind\":\"Any\",\"default\":true},{\"name\":\"position\",\"kind\":\"Any\",\"default\":\"right-top\"},{\"name\":\"offsetx\",\"kind\":\"Any\",\"default\":null},{\"name\":\"offsety\",\"kind\":\"Any\",\"default\":null},{\"name\":\"theme\",\"kind\":\"Any\",\"default\":\"primary\"},{\"name\":\"status\",\"kind\":\"Any\",\"default\":\"normalized\"}]},{\"type\":\"model\",\"name\":\"GridStack1\",\"properties\":[{\"name\":\"mode\",\"kind\":\"Any\",\"default\":\"warn\"},{\"name\":\"ncols\",\"kind\":\"Any\",\"default\":null},{\"name\":\"nrows\",\"kind\":\"Any\",\"default\":null},{\"name\":\"allow_resize\",\"kind\":\"Any\",\"default\":true},{\"name\":\"allow_drag\",\"kind\":\"Any\",\"default\":true},{\"name\":\"state\",\"kind\":\"Any\",\"default\":[]}]},{\"type\":\"model\",\"name\":\"drag1\",\"properties\":[{\"name\":\"slider_width\",\"kind\":\"Any\",\"default\":5},{\"name\":\"slider_color\",\"kind\":\"Any\",\"default\":\"black\"},{\"name\":\"value\",\"kind\":\"Any\",\"default\":50}]},{\"type\":\"model\",\"name\":\"click1\",\"properties\":[{\"name\":\"terminal_output\",\"kind\":\"Any\",\"default\":\"\"},{\"name\":\"debug_name\",\"kind\":\"Any\",\"default\":\"\"},{\"name\":\"clears\",\"kind\":\"Any\",\"default\":0}]},{\"type\":\"model\",\"name\":\"FastWrapper1\",\"properties\":[{\"name\":\"object\",\"kind\":\"Any\",\"default\":null},{\"name\":\"style\",\"kind\":\"Any\",\"default\":null}]},{\"type\":\"model\",\"name\":\"NotificationAreaBase1\",\"properties\":[{\"name\":\"js_events\",\"kind\":\"Any\",\"default\":{\"type\":\"map\"}},{\"name\":\"position\",\"kind\":\"Any\",\"default\":\"bottom-right\"},{\"name\":\"_clear\",\"kind\":\"Any\",\"default\":0}]},{\"type\":\"model\",\"name\":\"NotificationArea1\",\"properties\":[{\"name\":\"js_events\",\"kind\":\"Any\",\"default\":{\"type\":\"map\"}},{\"name\":\"notifications\",\"kind\":\"Any\",\"default\":[]},{\"name\":\"position\",\"kind\":\"Any\",\"default\":\"bottom-right\"},{\"name\":\"_clear\",\"kind\":\"Any\",\"default\":0},{\"name\":\"types\",\"kind\":\"Any\",\"default\":[{\"type\":\"map\",\"entries\":[[\"type\",\"warning\"],[\"background\",\"#ffc107\"],[\"icon\",{\"type\":\"map\",\"entries\":[[\"className\",\"fas fa-exclamation-triangle\"],[\"tagName\",\"i\"],[\"color\",\"white\"]]}]]},{\"type\":\"map\",\"entries\":[[\"type\",\"info\"],[\"background\",\"#007bff\"],[\"icon\",{\"type\":\"map\",\"entries\":[[\"className\",\"fas fa-info-circle\"],[\"tagName\",\"i\"],[\"color\",\"white\"]]}]]}]}]},{\"type\":\"model\",\"name\":\"Notification\",\"properties\":[{\"name\":\"background\",\"kind\":\"Any\",\"default\":null},{\"name\":\"duration\",\"kind\":\"Any\",\"default\":3000},{\"name\":\"icon\",\"kind\":\"Any\",\"default\":null},{\"name\":\"message\",\"kind\":\"Any\",\"default\":\"\"},{\"name\":\"notification_type\",\"kind\":\"Any\",\"default\":null},{\"name\":\"_destroyed\",\"kind\":\"Any\",\"default\":false}]},{\"type\":\"model\",\"name\":\"TemplateActions1\",\"properties\":[{\"name\":\"open_modal\",\"kind\":\"Any\",\"default\":0},{\"name\":\"close_modal\",\"kind\":\"Any\",\"default\":0}]},{\"type\":\"model\",\"name\":\"BootstrapTemplateActions1\",\"properties\":[{\"name\":\"open_modal\",\"kind\":\"Any\",\"default\":0},{\"name\":\"close_modal\",\"kind\":\"Any\",\"default\":0}]},{\"type\":\"model\",\"name\":\"TemplateEditor1\",\"properties\":[{\"name\":\"layout\",\"kind\":\"Any\",\"default\":[]}]},{\"type\":\"model\",\"name\":\"MaterialTemplateActions1\",\"properties\":[{\"name\":\"open_modal\",\"kind\":\"Any\",\"default\":0},{\"name\":\"close_modal\",\"kind\":\"Any\",\"default\":0}]},{\"type\":\"model\",\"name\":\"copy_to_clipboard1\",\"properties\":[{\"name\":\"fill\",\"kind\":\"Any\",\"default\":\"none\"},{\"name\":\"value\",\"kind\":\"Any\",\"default\":null}]}]}};\n",
       "  var render_items = [{\"docid\":\"e88af65a-cc96-49c1-8d94-6c39048cc782\",\"roots\":{\"p1604\":\"b196bcc2-bd79-4d17-af41-bd7273fd4ec3\"},\"root_ids\":[\"p1604\"]}];\n",
       "  var docs = Object.values(docs_json)\n",
       "  if (!docs) {\n",
       "    return\n",
       "  }\n",
       "  const py_version = docs[0].version.replace('rc', '-rc.').replace('.dev', '-dev.')\n",
       "  function embed_document(root) {\n",
       "    var Bokeh = get_bokeh(root)\n",
       "    Bokeh.embed.embed_items_notebook(docs_json, render_items);\n",
       "    for (const render_item of render_items) {\n",
       "      for (const root_id of render_item.root_ids) {\n",
       "\tconst id_el = document.getElementById(root_id)\n",
       "\tif (id_el.children.length && (id_el.children[0].className === 'bk-root')) {\n",
       "\t  const root_el = id_el.children[0]\n",
       "\t  root_el.id = root_el.id + '-rendered'\n",
       "\t}\n",
       "      }\n",
       "    }\n",
       "  }\n",
       "  function get_bokeh(root) {\n",
       "    if (root.Bokeh === undefined) {\n",
       "      return null\n",
       "    } else if (root.Bokeh.version !== py_version) {\n",
       "      if (root.Bokeh.versions === undefined || !root.Bokeh.versions.has(py_version)) {\n",
       "\treturn null\n",
       "      }\n",
       "      return root.Bokeh.versions.get(py_version);\n",
       "    } else if (root.Bokeh.version === py_version) {\n",
       "      return root.Bokeh\n",
       "    }\n",
       "    return null\n",
       "  }\n",
       "  function is_loaded(root) {\n",
       "    var Bokeh = get_bokeh(root)\n",
       "    return (Bokeh != null && Bokeh.Panel !== undefined)\n",
       "  }\n",
       "  if (is_loaded(root)) {\n",
       "    embed_document(root);\n",
       "  } else {\n",
       "    var attempts = 0;\n",
       "    var timer = setInterval(function(root) {\n",
       "      if (is_loaded(root)) {\n",
       "        clearInterval(timer);\n",
       "        embed_document(root);\n",
       "      } else if (document.readyState == \"complete\") {\n",
       "        attempts++;\n",
       "        if (attempts > 200) {\n",
       "          clearInterval(timer);\n",
       "\t  var Bokeh = get_bokeh(root)\n",
       "\t  if (Bokeh == null || Bokeh.Panel == null) {\n",
       "            console.warn(\"Panel: ERROR: Unable to run Panel code because Bokeh or Panel library is missing\");\n",
       "\t  } else {\n",
       "\t    console.warn(\"Panel: WARNING: Attempting to render but not all required libraries could be resolved.\")\n",
       "\t    embed_document(root)\n",
       "\t  }\n",
       "        }\n",
       "      }\n",
       "    }, 25, root)\n",
       "  }\n",
       "})(window);</script>"
      ],
      "text/plain": [
       ":Curve   [Date]   (Close)"
      ]
     },
     "execution_count": 40,
     "metadata": {
      "application/vnd.holoviews_exec.v0+json": {
       "id": "p1604"
      }
     },
     "output_type": "execute_result"
    }
   ],
   "source": [
    "# Plotting the 'Close/Last' price to visualize trends and patterns\n",
    "closing_plot=hed_df.hvplot.line(\n",
    "title='USD/Euro Closing Prices',\n",
    "xlabel='Date',\n",
    "ylabel='Close Price'\n",
    ")\n",
    "\n",
    "closing_plot\n"
   ]
  },
  {
   "cell_type": "code",
   "execution_count": null,
   "metadata": {},
   "outputs": [],
   "source": []
  }
 ],
 "metadata": {
  "kernelspec": {
   "display_name": "dev",
   "language": "python",
   "name": "python3"
  },
  "language_info": {
   "codemirror_mode": {
    "name": "ipython",
    "version": 3
   },
   "file_extension": ".py",
   "mimetype": "text/x-python",
   "name": "python",
   "nbconvert_exporter": "python",
   "pygments_lexer": "ipython3",
   "version": "3.10.14"
  }
 },
 "nbformat": 4,
 "nbformat_minor": 2
}
