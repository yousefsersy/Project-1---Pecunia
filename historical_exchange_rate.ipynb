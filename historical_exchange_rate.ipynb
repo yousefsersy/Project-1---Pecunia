{
 "cells": [
  {
   "cell_type": "code",
   "execution_count": 2,
   "metadata": {},
   "outputs": [],
   "source": [
    "#Initial imports\n",
    "import pandas as pd\n",
    "import numpy as np\n",
    "import datetime as dt"
   ]
  },
  {
   "cell_type": "code",
   "execution_count": null,
   "metadata": {},
   "outputs": [],
   "source": [
    "# Call Data from historical exchange dataframe \n",
    "%store -r hed_df "
   ]
  },
  {
   "cell_type": "code",
   "execution_count": null,
   "metadata": {},
   "outputs": [],
   "source": [
    "# Reading clean data of historical exchange dataframe \n",
    "hed_df.head()"
   ]
  },
  {
   "cell_type": "code",
   "execution_count": null,
   "metadata": {},
   "outputs": [],
   "source": [
    "#Calculate Daily Returns\n",
    "\n",
    "hed_daily_returns = hed_df.pct_change()\n",
    "hed_daily_returns.head()"
   ]
  },
  {
   "cell_type": "code",
   "execution_count": null,
   "metadata": {},
   "outputs": [],
   "source": [
    "# Plot daily returns\n",
    "\n",
    "hed_daily_returns.hvplot.line(\n",
    "    xlabel='Date'\n",
    "    ylabel = 'Exchange Rate',\n",
    "    title= 'Daily Returns')"
   ]
  },
  {
   "cell_type": "code",
   "execution_count": null,
   "metadata": {},
   "outputs": [],
   "source": [
    "#Rename 'Close\" column to be more specific \n",
    "\n",
    "hed_daily_returns = hed_daily_returns.rename(columns={'Close':'Daily Exchange Rate'})\n",
    "hed_daily_returns.head()"
   ]
  },
  {
   "cell_type": "code",
   "execution_count": null,
   "metadata": {},
   "outputs": [],
   "source": [
    "#Calculate the standard deviation of daily exchange rates\n",
    "\n",
    "hed_std = hed_daily_returns.std()\n",
    "hed_std"
   ]
  },
  {
   "cell_type": "code",
   "execution_count": null,
   "metadata": {},
   "outputs": [],
   "source": [
    "#Calculate rolling standard deviation for 21-day window\n",
    "\n",
    "rolling_std = hed_daily_returns.rolling(window= 21).std()\n",
    "\n",
    "#Plot rolling standard deviation \n",
    "rolling_std.plot(figsize=(20,10))"
   ]
  },
  {
   "cell_type": "code",
   "execution_count": null,
   "metadata": {},
   "outputs": [],
   "source": [
    "#Calculate the annualized standard deviation (252 trading days)\n",
    "\n",
    "annualized_std = hed_std * np.sqrt(252)\n",
    "annualized_std"
   ]
  },
  {
   "cell_type": "code",
   "execution_count": null,
   "metadata": {},
   "outputs": [],
   "source": []
  }
 ],
 "metadata": {
  "kernelspec": {
   "display_name": "dev",
   "language": "python",
   "name": "python3"
  },
  "language_info": {
   "codemirror_mode": {
    "name": "ipython",
    "version": 3
   },
   "file_extension": ".py",
   "mimetype": "text/x-python",
   "name": "python",
   "nbconvert_exporter": "python",
   "pygments_lexer": "ipython3",
   "version": "3.10.14"
  }
 },
 "nbformat": 4,
 "nbformat_minor": 2
}
