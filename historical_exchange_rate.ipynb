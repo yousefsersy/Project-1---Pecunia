{
 "cells": [
  {
   "cell_type": "code",
   "execution_count": 82,
   "metadata": {},
   "outputs": [],
   "source": [
    "#Initial imports\n",
    "import pandas as pd\n",
    "import numpy as np\n",
    "import datetime as dt\n",
    "import hvplot.pandas\n",
    "import holoviews as hv"
   ]
  },
  {
   "cell_type": "code",
   "execution_count": 83,
   "metadata": {},
   "outputs": [
    {
     "name": "stdout",
     "output_type": "stream",
     "text": [
      "Stored 'hed_df' (DataFrame)\n"
     ]
    }
   ],
   "source": [
    "%run HED.ipynb"
   ]
  },
  {
   "cell_type": "code",
   "execution_count": 84,
   "metadata": {},
   "outputs": [],
   "source": [
    "# Call Data from historical exchange dataframe \n",
    "%store -r hed_df"
   ]
  },
  {
   "cell_type": "code",
   "execution_count": 85,
   "metadata": {},
   "outputs": [
    {
     "data": {
      "text/html": [
       "<div>\n",
       "<style scoped>\n",
       "    .dataframe tbody tr th:only-of-type {\n",
       "        vertical-align: middle;\n",
       "    }\n",
       "\n",
       "    .dataframe tbody tr th {\n",
       "        vertical-align: top;\n",
       "    }\n",
       "\n",
       "    .dataframe thead th {\n",
       "        text-align: right;\n",
       "    }\n",
       "</style>\n",
       "<table border=\"1\" class=\"dataframe\">\n",
       "  <thead>\n",
       "    <tr style=\"text-align: right;\">\n",
       "      <th></th>\n",
       "      <th>Close</th>\n",
       "    </tr>\n",
       "    <tr>\n",
       "      <th>Date</th>\n",
       "      <th></th>\n",
       "    </tr>\n",
       "  </thead>\n",
       "  <tbody>\n",
       "    <tr>\n",
       "      <th>2022-01-02</th>\n",
       "      <td>1.1341</td>\n",
       "    </tr>\n",
       "    <tr>\n",
       "      <th>2022-01-03</th>\n",
       "      <td>1.1301</td>\n",
       "    </tr>\n",
       "    <tr>\n",
       "      <th>2022-01-04</th>\n",
       "      <td>1.1291</td>\n",
       "    </tr>\n",
       "    <tr>\n",
       "      <th>2022-01-05</th>\n",
       "      <td>1.1315</td>\n",
       "    </tr>\n",
       "    <tr>\n",
       "      <th>2022-01-06</th>\n",
       "      <td>1.1303</td>\n",
       "    </tr>\n",
       "  </tbody>\n",
       "</table>\n",
       "</div>"
      ],
      "text/plain": [
       "             Close\n",
       "Date              \n",
       "2022-01-02  1.1341\n",
       "2022-01-03  1.1301\n",
       "2022-01-04  1.1291\n",
       "2022-01-05  1.1315\n",
       "2022-01-06  1.1303"
      ]
     },
     "execution_count": 85,
     "metadata": {},
     "output_type": "execute_result"
    }
   ],
   "source": [
    "# Reading clean data of historical exchange dataframe \n",
    "hed_df.head()\n"
   ]
  },
  {
   "cell_type": "code",
   "execution_count": 86,
   "metadata": {},
   "outputs": [
    {
     "data": {
      "text/html": [
       "<div>\n",
       "<style scoped>\n",
       "    .dataframe tbody tr th:only-of-type {\n",
       "        vertical-align: middle;\n",
       "    }\n",
       "\n",
       "    .dataframe tbody tr th {\n",
       "        vertical-align: top;\n",
       "    }\n",
       "\n",
       "    .dataframe thead th {\n",
       "        text-align: right;\n",
       "    }\n",
       "</style>\n",
       "<table border=\"1\" class=\"dataframe\">\n",
       "  <thead>\n",
       "    <tr style=\"text-align: right;\">\n",
       "      <th></th>\n",
       "      <th>Close</th>\n",
       "    </tr>\n",
       "  </thead>\n",
       "  <tbody>\n",
       "    <tr>\n",
       "      <th>count</th>\n",
       "      <td>716.000000</td>\n",
       "    </tr>\n",
       "    <tr>\n",
       "      <th>mean</th>\n",
       "      <td>1.069714</td>\n",
       "    </tr>\n",
       "    <tr>\n",
       "      <th>std</th>\n",
       "      <td>0.037367</td>\n",
       "    </tr>\n",
       "    <tr>\n",
       "      <th>min</th>\n",
       "      <td>0.956000</td>\n",
       "    </tr>\n",
       "    <tr>\n",
       "      <th>25%</th>\n",
       "      <td>1.054775</td>\n",
       "    </tr>\n",
       "    <tr>\n",
       "      <th>50%</th>\n",
       "      <td>1.076250</td>\n",
       "    </tr>\n",
       "    <tr>\n",
       "      <th>75%</th>\n",
       "      <td>1.092170</td>\n",
       "    </tr>\n",
       "    <tr>\n",
       "      <th>max</th>\n",
       "      <td>1.147300</td>\n",
       "    </tr>\n",
       "  </tbody>\n",
       "</table>\n",
       "</div>"
      ],
      "text/plain": [
       "            Close\n",
       "count  716.000000\n",
       "mean     1.069714\n",
       "std      0.037367\n",
       "min      0.956000\n",
       "25%      1.054775\n",
       "50%      1.076250\n",
       "75%      1.092170\n",
       "max      1.147300"
      ]
     },
     "execution_count": 86,
     "metadata": {},
     "output_type": "execute_result"
    }
   ],
   "source": [
    "describe = hed_df.describe()\n",
    "describe"
   ]
  },
  {
   "cell_type": "code",
   "execution_count": 87,
   "metadata": {},
   "outputs": [
    {
     "data": {
      "text/plain": [
       "Date\n",
       "2022-01-02         NaN\n",
       "2022-01-03   -0.003527\n",
       "2022-01-04   -0.000885\n",
       "2022-01-05    0.002126\n",
       "2022-01-06   -0.001061\n",
       "Name: Close, dtype: float64"
      ]
     },
     "execution_count": 87,
     "metadata": {},
     "output_type": "execute_result"
    }
   ],
   "source": [
    "#Calculate Daily Returns\n",
    "\n",
    "pct_change_df= hed_df['Close'].pct_change()\n",
    "pct_change_df.head()"
   ]
  },
  {
   "cell_type": "code",
   "execution_count": 88,
   "metadata": {},
   "outputs": [
    {
     "data": {
      "text/plain": [
       "Date\n",
       "2022-01-03   -0.003527\n",
       "2022-01-04   -0.000885\n",
       "2022-01-05    0.002126\n",
       "2022-01-06   -0.001061\n",
       "2022-01-07    0.005220\n",
       "Name: Close, dtype: float64"
      ]
     },
     "execution_count": 88,
     "metadata": {},
     "output_type": "execute_result"
    }
   ],
   "source": [
    "# Drop nulls\n",
    "\n",
    "pct_change_df= pct_change_df.dropna()\n",
    "pct_change_df.head()"
   ]
  },
  {
   "cell_type": "code",
   "execution_count": 75,
   "metadata": {},
   "outputs": [
    {
     "data": {},
     "metadata": {},
     "output_type": "display_data"
    },
    {
     "data": {
      "application/vnd.holoviews_exec.v0+json": "",
      "text/html": [
       "<div id='p1640'>\n",
       "  <div id=\"c48b1ebf-8c4a-4c00-8756-8da2385582dc\" data-root-id=\"p1640\" style=\"display: contents;\"></div>\n",
       "</div>\n",
       "<script type=\"application/javascript\">(function(root) {\n",
       "  var docs_json = {\"36596248-c445-4603-8884-770086af224e\":{\"version\":\"3.4.0\",\"title\":\"Bokeh Application\",\"roots\":[{\"type\":\"object\",\"name\":\"Row\",\"id\":\"p1640\",\"attributes\":{\"name\":\"Row02218\",\"tags\":[\"embedded\"],\"stylesheets\":[\"\\n:host(.pn-loading):before, .pn-loading:before {\\n  background-color: #c3c3c3;\\n  mask-size: auto calc(min(50%, 400px));\\n  -webkit-mask-size: auto calc(min(50%, 400px));\\n}\",{\"type\":\"object\",\"name\":\"ImportedStyleSheet\",\"id\":\"p1643\",\"attributes\":{\"url\":\"https://cdn.holoviz.org/panel/1.4.1/dist/css/loading.css\"}},{\"type\":\"object\",\"name\":\"ImportedStyleSheet\",\"id\":\"p1711\",\"attributes\":{\"url\":\"https://cdn.holoviz.org/panel/1.4.1/dist/css/listpanel.css\"}},{\"type\":\"object\",\"name\":\"ImportedStyleSheet\",\"id\":\"p1641\",\"attributes\":{\"url\":\"https://cdn.holoviz.org/panel/1.4.1/dist/bundled/theme/default.css\"}},{\"type\":\"object\",\"name\":\"ImportedStyleSheet\",\"id\":\"p1642\",\"attributes\":{\"url\":\"https://cdn.holoviz.org/panel/1.4.1/dist/bundled/theme/native.css\"}}],\"min_width\":700,\"margin\":0,\"sizing_mode\":\"stretch_width\",\"align\":\"start\",\"children\":[{\"type\":\"object\",\"name\":\"Spacer\",\"id\":\"p1644\",\"attributes\":{\"name\":\"HSpacer02225\",\"stylesheets\":[\"\\n:host(.pn-loading):before, .pn-loading:before {\\n  background-color: #c3c3c3;\\n  mask-size: auto calc(min(50%, 400px));\\n  -webkit-mask-size: auto calc(min(50%, 400px));\\n}\",{\"id\":\"p1643\"},{\"id\":\"p1641\"},{\"id\":\"p1642\"}],\"margin\":0,\"sizing_mode\":\"stretch_width\",\"align\":\"start\"}},{\"type\":\"object\",\"name\":\"Figure\",\"id\":\"p1652\",\"attributes\":{\"width\":700,\"height\":300,\"margin\":[5,10],\"sizing_mode\":\"fixed\",\"align\":\"start\",\"x_range\":{\"type\":\"object\",\"name\":\"Range1d\",\"id\":\"p1645\",\"attributes\":{\"tags\":[[[\"Date\",\"Date\",null]],[]],\"start\":1641081600000.0,\"end\":1714435200000.0,\"reset_start\":1641081600000.0,\"reset_end\":1714435200000.0}},\"y_range\":{\"type\":\"object\",\"name\":\"Range1d\",\"id\":\"p1646\",\"attributes\":{\"tags\":[[[\"Close\",\"Close\",null]],{\"type\":\"map\",\"entries\":[[\"invert_yaxis\",false],[\"autorange\",false]]}],\"start\":-0.021792745939482317,\"end\":0.02285926741074883,\"reset_start\":-0.021792745939482317,\"reset_end\":0.02285926741074883}},\"x_scale\":{\"type\":\"object\",\"name\":\"LinearScale\",\"id\":\"p1662\"},\"y_scale\":{\"type\":\"object\",\"name\":\"LinearScale\",\"id\":\"p1663\"},\"title\":{\"type\":\"object\",\"name\":\"Title\",\"id\":\"p1655\",\"attributes\":{\"text\":\"Daily Returns\",\"text_color\":\"black\",\"text_font_size\":\"12pt\"}},\"renderers\":[{\"type\":\"object\",\"name\":\"GlyphRenderer\",\"id\":\"p1704\",\"attributes\":{\"data_source\":{\"type\":\"object\",\"name\":\"ColumnDataSource\",\"id\":\"p1695\",\"attributes\":{\"selected\":{\"type\":\"object\",\"name\":\"Selection\",\"id\":\"p1696\",\"attributes\":{\"indices\":[],\"line_indices\":[]}},\"selection_policy\":{\"type\":\"object\",\"name\":\"UnionRenderers\",\"id\":\"p1697\"},\"data\":{\"type\":\"map\",\"entries\":[[\"Date\",{\"type\":\"ndarray\",\"array\":{\"type\":\"bytes\",\"data\":\"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\"},\"shape\":[716],\"dtype\":\"float64\",\"order\":\"little\"}],[\"Close\",{\"type\":\"ndarray\",\"array\":{\"type\":\"bytes\",\"data\":\"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\"},\"shape\":[716],\"dtype\":\"float64\",\"order\":\"little\"}]]}}},\"view\":{\"type\":\"object\",\"name\":\"CDSView\",\"id\":\"p1705\",\"attributes\":{\"filter\":{\"type\":\"object\",\"name\":\"AllIndices\",\"id\":\"p1706\"}}},\"glyph\":{\"type\":\"object\",\"name\":\"Line\",\"id\":\"p1701\",\"attributes\":{\"tags\":[\"apply_ranges\"],\"x\":{\"type\":\"field\",\"field\":\"Date\"},\"y\":{\"type\":\"field\",\"field\":\"Close\"},\"line_color\":\"#30a2da\",\"line_width\":2}},\"selection_glyph\":{\"type\":\"object\",\"name\":\"Line\",\"id\":\"p1707\",\"attributes\":{\"tags\":[\"apply_ranges\"],\"x\":{\"type\":\"field\",\"field\":\"Date\"},\"y\":{\"type\":\"field\",\"field\":\"Close\"},\"line_color\":\"#30a2da\",\"line_width\":2}},\"nonselection_glyph\":{\"type\":\"object\",\"name\":\"Line\",\"id\":\"p1702\",\"attributes\":{\"tags\":[\"apply_ranges\"],\"x\":{\"type\":\"field\",\"field\":\"Date\"},\"y\":{\"type\":\"field\",\"field\":\"Close\"},\"line_color\":\"#30a2da\",\"line_alpha\":0.1,\"line_width\":2}},\"muted_glyph\":{\"type\":\"object\",\"name\":\"Line\",\"id\":\"p1703\",\"attributes\":{\"tags\":[\"apply_ranges\"],\"x\":{\"type\":\"field\",\"field\":\"Date\"},\"y\":{\"type\":\"field\",\"field\":\"Close\"},\"line_color\":\"#30a2da\",\"line_alpha\":0.2,\"line_width\":2}}}}],\"toolbar\":{\"type\":\"object\",\"name\":\"Toolbar\",\"id\":\"p1661\",\"attributes\":{\"tools\":[{\"type\":\"object\",\"name\":\"WheelZoomTool\",\"id\":\"p1650\",\"attributes\":{\"tags\":[\"hv_created\"],\"renderers\":\"auto\",\"zoom_together\":\"none\"}},{\"type\":\"object\",\"name\":\"HoverTool\",\"id\":\"p1651\",\"attributes\":{\"tags\":[\"hv_created\"],\"renderers\":[{\"id\":\"p1704\"}],\"tooltips\":[[\"Date\",\"@{Date}{%F %T}\"],[\"Close\",\"@{Close}\"]],\"formatters\":{\"type\":\"map\",\"entries\":[[\"@{Date}\",\"datetime\"]]}}},{\"type\":\"object\",\"name\":\"SaveTool\",\"id\":\"p1686\"},{\"type\":\"object\",\"name\":\"PanTool\",\"id\":\"p1687\"},{\"type\":\"object\",\"name\":\"BoxZoomTool\",\"id\":\"p1688\",\"attributes\":{\"overlay\":{\"type\":\"object\",\"name\":\"BoxAnnotation\",\"id\":\"p1689\",\"attributes\":{\"syncable\":false,\"level\":\"overlay\",\"visible\":false,\"left\":{\"type\":\"number\",\"value\":\"nan\"},\"right\":{\"type\":\"number\",\"value\":\"nan\"},\"top\":{\"type\":\"number\",\"value\":\"nan\"},\"bottom\":{\"type\":\"number\",\"value\":\"nan\"},\"left_units\":\"canvas\",\"right_units\":\"canvas\",\"top_units\":\"canvas\",\"bottom_units\":\"canvas\",\"line_color\":\"black\",\"line_alpha\":1.0,\"line_width\":2,\"line_dash\":[4,4],\"fill_color\":\"lightgrey\",\"fill_alpha\":0.5}}}},{\"type\":\"object\",\"name\":\"ResetTool\",\"id\":\"p1694\"}],\"active_drag\":{\"id\":\"p1687\"},\"active_scroll\":{\"id\":\"p1650\"}}},\"left\":[{\"type\":\"object\",\"name\":\"LinearAxis\",\"id\":\"p1681\",\"attributes\":{\"ticker\":{\"type\":\"object\",\"name\":\"BasicTicker\",\"id\":\"p1682\",\"attributes\":{\"mantissas\":[1,2,5]}},\"formatter\":{\"type\":\"object\",\"name\":\"BasicTickFormatter\",\"id\":\"p1683\"},\"axis_label\":\"Percent Change\",\"major_label_policy\":{\"type\":\"object\",\"name\":\"AllLabels\",\"id\":\"p1684\"}}}],\"below\":[{\"type\":\"object\",\"name\":\"DatetimeAxis\",\"id\":\"p1664\",\"attributes\":{\"ticker\":{\"type\":\"object\",\"name\":\"DatetimeTicker\",\"id\":\"p1665\",\"attributes\":{\"num_minor_ticks\":5,\"tickers\":[{\"type\":\"object\",\"name\":\"AdaptiveTicker\",\"id\":\"p1666\",\"attributes\":{\"num_minor_ticks\":0,\"mantissas\":[1,2,5],\"max_interval\":500.0}},{\"type\":\"object\",\"name\":\"AdaptiveTicker\",\"id\":\"p1667\",\"attributes\":{\"num_minor_ticks\":0,\"base\":60,\"mantissas\":[1,2,5,10,15,20,30],\"min_interval\":1000.0,\"max_interval\":1800000.0}},{\"type\":\"object\",\"name\":\"AdaptiveTicker\",\"id\":\"p1668\",\"attributes\":{\"num_minor_ticks\":0,\"base\":24,\"mantissas\":[1,2,4,6,8,12],\"min_interval\":3600000.0,\"max_interval\":43200000.0}},{\"type\":\"object\",\"name\":\"DaysTicker\",\"id\":\"p1669\",\"attributes\":{\"days\":[1,2,3,4,5,6,7,8,9,10,11,12,13,14,15,16,17,18,19,20,21,22,23,24,25,26,27,28,29,30,31]}},{\"type\":\"object\",\"name\":\"DaysTicker\",\"id\":\"p1670\",\"attributes\":{\"days\":[1,4,7,10,13,16,19,22,25,28]}},{\"type\":\"object\",\"name\":\"DaysTicker\",\"id\":\"p1671\",\"attributes\":{\"days\":[1,8,15,22]}},{\"type\":\"object\",\"name\":\"DaysTicker\",\"id\":\"p1672\",\"attributes\":{\"days\":[1,15]}},{\"type\":\"object\",\"name\":\"MonthsTicker\",\"id\":\"p1673\",\"attributes\":{\"months\":[0,1,2,3,4,5,6,7,8,9,10,11]}},{\"type\":\"object\",\"name\":\"MonthsTicker\",\"id\":\"p1674\",\"attributes\":{\"months\":[0,2,4,6,8,10]}},{\"type\":\"object\",\"name\":\"MonthsTicker\",\"id\":\"p1675\",\"attributes\":{\"months\":[0,4,8]}},{\"type\":\"object\",\"name\":\"MonthsTicker\",\"id\":\"p1676\",\"attributes\":{\"months\":[0,6]}},{\"type\":\"object\",\"name\":\"YearsTicker\",\"id\":\"p1677\"}]}},\"formatter\":{\"type\":\"object\",\"name\":\"DatetimeTickFormatter\",\"id\":\"p1678\"},\"axis_label\":\"Date\",\"major_label_policy\":{\"type\":\"object\",\"name\":\"AllLabels\",\"id\":\"p1679\"}}}],\"center\":[{\"type\":\"object\",\"name\":\"Grid\",\"id\":\"p1680\",\"attributes\":{\"axis\":{\"id\":\"p1664\"},\"grid_line_color\":null}},{\"type\":\"object\",\"name\":\"Grid\",\"id\":\"p1685\",\"attributes\":{\"dimension\":1,\"axis\":{\"id\":\"p1681\"},\"grid_line_color\":null}}],\"min_border_top\":10,\"min_border_bottom\":10,\"min_border_left\":10,\"min_border_right\":10,\"output_backend\":\"webgl\"}},{\"type\":\"object\",\"name\":\"Spacer\",\"id\":\"p1709\",\"attributes\":{\"name\":\"HSpacer02226\",\"stylesheets\":[\"\\n:host(.pn-loading):before, .pn-loading:before {\\n  background-color: #c3c3c3;\\n  mask-size: auto calc(min(50%, 400px));\\n  -webkit-mask-size: auto calc(min(50%, 400px));\\n}\",{\"id\":\"p1643\"},{\"id\":\"p1641\"},{\"id\":\"p1642\"}],\"margin\":0,\"sizing_mode\":\"stretch_width\",\"align\":\"start\"}}]}}],\"defs\":[{\"type\":\"model\",\"name\":\"ReactiveHTML1\"},{\"type\":\"model\",\"name\":\"FlexBox1\",\"properties\":[{\"name\":\"align_content\",\"kind\":\"Any\",\"default\":\"flex-start\"},{\"name\":\"align_items\",\"kind\":\"Any\",\"default\":\"flex-start\"},{\"name\":\"flex_direction\",\"kind\":\"Any\",\"default\":\"row\"},{\"name\":\"flex_wrap\",\"kind\":\"Any\",\"default\":\"wrap\"},{\"name\":\"gap\",\"kind\":\"Any\",\"default\":\"\"},{\"name\":\"justify_content\",\"kind\":\"Any\",\"default\":\"flex-start\"}]},{\"type\":\"model\",\"name\":\"FloatPanel1\",\"properties\":[{\"name\":\"config\",\"kind\":\"Any\",\"default\":{\"type\":\"map\"}},{\"name\":\"contained\",\"kind\":\"Any\",\"default\":true},{\"name\":\"position\",\"kind\":\"Any\",\"default\":\"right-top\"},{\"name\":\"offsetx\",\"kind\":\"Any\",\"default\":null},{\"name\":\"offsety\",\"kind\":\"Any\",\"default\":null},{\"name\":\"theme\",\"kind\":\"Any\",\"default\":\"primary\"},{\"name\":\"status\",\"kind\":\"Any\",\"default\":\"normalized\"}]},{\"type\":\"model\",\"name\":\"GridStack1\",\"properties\":[{\"name\":\"mode\",\"kind\":\"Any\",\"default\":\"warn\"},{\"name\":\"ncols\",\"kind\":\"Any\",\"default\":null},{\"name\":\"nrows\",\"kind\":\"Any\",\"default\":null},{\"name\":\"allow_resize\",\"kind\":\"Any\",\"default\":true},{\"name\":\"allow_drag\",\"kind\":\"Any\",\"default\":true},{\"name\":\"state\",\"kind\":\"Any\",\"default\":[]}]},{\"type\":\"model\",\"name\":\"drag1\",\"properties\":[{\"name\":\"slider_width\",\"kind\":\"Any\",\"default\":5},{\"name\":\"slider_color\",\"kind\":\"Any\",\"default\":\"black\"},{\"name\":\"value\",\"kind\":\"Any\",\"default\":50}]},{\"type\":\"model\",\"name\":\"click1\",\"properties\":[{\"name\":\"terminal_output\",\"kind\":\"Any\",\"default\":\"\"},{\"name\":\"debug_name\",\"kind\":\"Any\",\"default\":\"\"},{\"name\":\"clears\",\"kind\":\"Any\",\"default\":0}]},{\"type\":\"model\",\"name\":\"FastWrapper1\",\"properties\":[{\"name\":\"object\",\"kind\":\"Any\",\"default\":null},{\"name\":\"style\",\"kind\":\"Any\",\"default\":null}]},{\"type\":\"model\",\"name\":\"NotificationAreaBase1\",\"properties\":[{\"name\":\"js_events\",\"kind\":\"Any\",\"default\":{\"type\":\"map\"}},{\"name\":\"position\",\"kind\":\"Any\",\"default\":\"bottom-right\"},{\"name\":\"_clear\",\"kind\":\"Any\",\"default\":0}]},{\"type\":\"model\",\"name\":\"NotificationArea1\",\"properties\":[{\"name\":\"js_events\",\"kind\":\"Any\",\"default\":{\"type\":\"map\"}},{\"name\":\"notifications\",\"kind\":\"Any\",\"default\":[]},{\"name\":\"position\",\"kind\":\"Any\",\"default\":\"bottom-right\"},{\"name\":\"_clear\",\"kind\":\"Any\",\"default\":0},{\"name\":\"types\",\"kind\":\"Any\",\"default\":[{\"type\":\"map\",\"entries\":[[\"type\",\"warning\"],[\"background\",\"#ffc107\"],[\"icon\",{\"type\":\"map\",\"entries\":[[\"className\",\"fas fa-exclamation-triangle\"],[\"tagName\",\"i\"],[\"color\",\"white\"]]}]]},{\"type\":\"map\",\"entries\":[[\"type\",\"info\"],[\"background\",\"#007bff\"],[\"icon\",{\"type\":\"map\",\"entries\":[[\"className\",\"fas fa-info-circle\"],[\"tagName\",\"i\"],[\"color\",\"white\"]]}]]}]}]},{\"type\":\"model\",\"name\":\"Notification\",\"properties\":[{\"name\":\"background\",\"kind\":\"Any\",\"default\":null},{\"name\":\"duration\",\"kind\":\"Any\",\"default\":3000},{\"name\":\"icon\",\"kind\":\"Any\",\"default\":null},{\"name\":\"message\",\"kind\":\"Any\",\"default\":\"\"},{\"name\":\"notification_type\",\"kind\":\"Any\",\"default\":null},{\"name\":\"_destroyed\",\"kind\":\"Any\",\"default\":false}]},{\"type\":\"model\",\"name\":\"TemplateActions1\",\"properties\":[{\"name\":\"open_modal\",\"kind\":\"Any\",\"default\":0},{\"name\":\"close_modal\",\"kind\":\"Any\",\"default\":0}]},{\"type\":\"model\",\"name\":\"BootstrapTemplateActions1\",\"properties\":[{\"name\":\"open_modal\",\"kind\":\"Any\",\"default\":0},{\"name\":\"close_modal\",\"kind\":\"Any\",\"default\":0}]},{\"type\":\"model\",\"name\":\"TemplateEditor1\",\"properties\":[{\"name\":\"layout\",\"kind\":\"Any\",\"default\":[]}]},{\"type\":\"model\",\"name\":\"MaterialTemplateActions1\",\"properties\":[{\"name\":\"open_modal\",\"kind\":\"Any\",\"default\":0},{\"name\":\"close_modal\",\"kind\":\"Any\",\"default\":0}]},{\"type\":\"model\",\"name\":\"copy_to_clipboard1\",\"properties\":[{\"name\":\"fill\",\"kind\":\"Any\",\"default\":\"none\"},{\"name\":\"value\",\"kind\":\"Any\",\"default\":null}]}]}};\n",
       "  var render_items = [{\"docid\":\"36596248-c445-4603-8884-770086af224e\",\"roots\":{\"p1640\":\"c48b1ebf-8c4a-4c00-8756-8da2385582dc\"},\"root_ids\":[\"p1640\"]}];\n",
       "  var docs = Object.values(docs_json)\n",
       "  if (!docs) {\n",
       "    return\n",
       "  }\n",
       "  const py_version = docs[0].version.replace('rc', '-rc.').replace('.dev', '-dev.')\n",
       "  function embed_document(root) {\n",
       "    var Bokeh = get_bokeh(root)\n",
       "    Bokeh.embed.embed_items_notebook(docs_json, render_items);\n",
       "    for (const render_item of render_items) {\n",
       "      for (const root_id of render_item.root_ids) {\n",
       "\tconst id_el = document.getElementById(root_id)\n",
       "\tif (id_el.children.length && (id_el.children[0].className === 'bk-root')) {\n",
       "\t  const root_el = id_el.children[0]\n",
       "\t  root_el.id = root_el.id + '-rendered'\n",
       "\t}\n",
       "      }\n",
       "    }\n",
       "  }\n",
       "  function get_bokeh(root) {\n",
       "    if (root.Bokeh === undefined) {\n",
       "      return null\n",
       "    } else if (root.Bokeh.version !== py_version) {\n",
       "      if (root.Bokeh.versions === undefined || !root.Bokeh.versions.has(py_version)) {\n",
       "\treturn null\n",
       "      }\n",
       "      return root.Bokeh.versions.get(py_version);\n",
       "    } else if (root.Bokeh.version === py_version) {\n",
       "      return root.Bokeh\n",
       "    }\n",
       "    return null\n",
       "  }\n",
       "  function is_loaded(root) {\n",
       "    var Bokeh = get_bokeh(root)\n",
       "    return (Bokeh != null && Bokeh.Panel !== undefined)\n",
       "  }\n",
       "  if (is_loaded(root)) {\n",
       "    embed_document(root);\n",
       "  } else {\n",
       "    var attempts = 0;\n",
       "    var timer = setInterval(function(root) {\n",
       "      if (is_loaded(root)) {\n",
       "        clearInterval(timer);\n",
       "        embed_document(root);\n",
       "      } else if (document.readyState == \"complete\") {\n",
       "        attempts++;\n",
       "        if (attempts > 200) {\n",
       "          clearInterval(timer);\n",
       "\t  var Bokeh = get_bokeh(root)\n",
       "\t  if (Bokeh == null || Bokeh.Panel == null) {\n",
       "            console.warn(\"Panel: ERROR: Unable to run Panel code because Bokeh or Panel library is missing\");\n",
       "\t  } else {\n",
       "\t    console.warn(\"Panel: WARNING: Attempting to render but not all required libraries could be resolved.\")\n",
       "\t    embed_document(root)\n",
       "\t  }\n",
       "        }\n",
       "      }\n",
       "    }, 25, root)\n",
       "  }\n",
       "})(window);</script>"
      ],
      "text/plain": [
       ":Curve   [Date]   (Close)"
      ]
     },
     "execution_count": 75,
     "metadata": {
      "application/vnd.holoviews_exec.v0+json": {
       "id": "p1640"
      }
     },
     "output_type": "execute_result"
    }
   ],
   "source": [
    "# Plot daily returns\n",
    "\n",
    "daily_return_plot = pct_change_df.hvplot.line(\n",
    "    xlabel='Date',\n",
    "    x = 'Date',\n",
    "    ylabel = 'Percent Change',\n",
    "    title= 'Daily Returns')\n",
    "\n",
    "daily_return_plot"
   ]
  },
  {
   "cell_type": "code",
   "execution_count": 89,
   "metadata": {},
   "outputs": [
    {
     "data": {
      "text/plain": [
       "0.004856741667554545"
      ]
     },
     "execution_count": 89,
     "metadata": {},
     "output_type": "execute_result"
    }
   ],
   "source": [
    "#Calculate the standard deviation of daily exchange rates\n",
    "\n",
    "hed_std = pct_change_df.std()\n",
    "hed_std"
   ]
  },
  {
   "cell_type": "code",
   "execution_count": 90,
   "metadata": {},
   "outputs": [
    {
     "data": {},
     "metadata": {},
     "output_type": "display_data"
    },
    {
     "data": {
      "application/vnd.holoviews_exec.v0+json": "",
      "text/html": [
       "<div id='p1865'>\n",
       "  <div id=\"a366385e-0ee7-4b8f-bfd8-44f18fa135cf\" data-root-id=\"p1865\" style=\"display: contents;\"></div>\n",
       "</div>\n",
       "<script type=\"application/javascript\">(function(root) {\n",
       "  var docs_json = {\"a33208da-5ea7-49fc-852f-9aa6df06045d\":{\"version\":\"3.4.0\",\"title\":\"Bokeh Application\",\"roots\":[{\"type\":\"object\",\"name\":\"Row\",\"id\":\"p1865\",\"attributes\":{\"name\":\"Row02716\",\"tags\":[\"embedded\"],\"stylesheets\":[\"\\n:host(.pn-loading):before, .pn-loading:before {\\n  background-color: #c3c3c3;\\n  mask-size: auto calc(min(50%, 400px));\\n  -webkit-mask-size: auto calc(min(50%, 400px));\\n}\",{\"type\":\"object\",\"name\":\"ImportedStyleSheet\",\"id\":\"p1868\",\"attributes\":{\"url\":\"https://cdn.holoviz.org/panel/1.4.1/dist/css/loading.css\"}},{\"type\":\"object\",\"name\":\"ImportedStyleSheet\",\"id\":\"p1936\",\"attributes\":{\"url\":\"https://cdn.holoviz.org/panel/1.4.1/dist/css/listpanel.css\"}},{\"type\":\"object\",\"name\":\"ImportedStyleSheet\",\"id\":\"p1866\",\"attributes\":{\"url\":\"https://cdn.holoviz.org/panel/1.4.1/dist/bundled/theme/default.css\"}},{\"type\":\"object\",\"name\":\"ImportedStyleSheet\",\"id\":\"p1867\",\"attributes\":{\"url\":\"https://cdn.holoviz.org/panel/1.4.1/dist/bundled/theme/native.css\"}}],\"min_width\":700,\"margin\":0,\"sizing_mode\":\"stretch_width\",\"align\":\"start\",\"children\":[{\"type\":\"object\",\"name\":\"Spacer\",\"id\":\"p1869\",\"attributes\":{\"name\":\"HSpacer02723\",\"stylesheets\":[\"\\n:host(.pn-loading):before, .pn-loading:before {\\n  background-color: #c3c3c3;\\n  mask-size: auto calc(min(50%, 400px));\\n  -webkit-mask-size: auto calc(min(50%, 400px));\\n}\",{\"id\":\"p1868\"},{\"id\":\"p1866\"},{\"id\":\"p1867\"}],\"margin\":0,\"sizing_mode\":\"stretch_width\",\"align\":\"start\"}},{\"type\":\"object\",\"name\":\"Figure\",\"id\":\"p1877\",\"attributes\":{\"width\":700,\"height\":300,\"margin\":[5,10],\"sizing_mode\":\"fixed\",\"align\":\"start\",\"x_range\":{\"type\":\"object\",\"name\":\"Range1d\",\"id\":\"p1870\",\"attributes\":{\"tags\":[[[\"Date\",\"Date\",null]],[]],\"start\":1641168000000.0,\"end\":1714435200000.0,\"reset_start\":1641168000000.0,\"reset_end\":1714435200000.0}},\"y_range\":{\"type\":\"object\",\"name\":\"Range1d\",\"id\":\"p1871\",\"attributes\":{\"tags\":[[[\"Close\",\"Close\",null]],{\"type\":\"map\",\"entries\":[[\"invert_yaxis\",false],[\"autorange\",false]]}],\"start\":0.0014187102216868881,\"end\":0.009090475033679993,\"reset_start\":0.0014187102216868881,\"reset_end\":0.009090475033679993}},\"x_scale\":{\"type\":\"object\",\"name\":\"LinearScale\",\"id\":\"p1887\"},\"y_scale\":{\"type\":\"object\",\"name\":\"LinearScale\",\"id\":\"p1888\"},\"title\":{\"type\":\"object\",\"name\":\"Title\",\"id\":\"p1880\",\"attributes\":{\"text\":\"21 Day Rolling Standard Deviation\",\"text_color\":\"black\",\"text_font_size\":\"12pt\"}},\"renderers\":[{\"type\":\"object\",\"name\":\"GlyphRenderer\",\"id\":\"p1929\",\"attributes\":{\"data_source\":{\"type\":\"object\",\"name\":\"ColumnDataSource\",\"id\":\"p1920\",\"attributes\":{\"selected\":{\"type\":\"object\",\"name\":\"Selection\",\"id\":\"p1921\",\"attributes\":{\"indices\":[],\"line_indices\":[]}},\"selection_policy\":{\"type\":\"object\",\"name\":\"UnionRenderers\",\"id\":\"p1922\"},\"data\":{\"type\":\"map\",\"entries\":[[\"Date\",{\"type\":\"ndarray\",\"array\":{\"type\":\"bytes\",\"data\":\"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\"},\"shape\":[715],\"dtype\":\"float64\",\"order\":\"little\"}],[\"Close\",{\"type\":\"ndarray\",\"array\":{\"type\":\"bytes\",\"data\":\"AAAAAAAA+H8AAAAAAAD4fwAAAAAAAPh/AAAAAAAA+H8AAAAAAAD4fwAAAAAAAPh/AAAAAAAA+H8AAAAAAAD4fwAAAAAAAPh/AAAAAAAA+H8AAAAAAAD4fwAAAAAAAPh/AAAAAAAA+H8AAAAAAAD4fwAAAAAAAPh/AAAAAAAA+H8AAAAAAAD4fwAAAAAAAPh/AAAAAAAA+H8AAAAAAAD4f+UN0XxWj2o/M+Ex6lEvbD/ID9wWKjFsP6Acr/WL/ms/fMGH0y0bbz//QTS6twFuP1ys4ub5Xm4/hvuGK8xbdD+3+BegG1d0PyVoqhv0pXM/YUkC5FGAcz/CW2NzdPZyP1CKTLho9XI/noXNxjtLcz/1FsMzQI5yP34ErvNdenI/QOmBMsV8cj84ldabBpRyP2rTRx+njHI/i6wnHH6Lcj+ID+tvpKhyP58EGSuVO3I/64uuPSHwcT+vjC6Gq/5xPw3oEv75jHM/L3/gg3CRcj/PVKZN4uVyPx8j/DM8VHU/ek7TFht4cD+6UoTr+VFxP7XSIVzCUnE/0sUGRLpecT9wEP8ppbV2P31eUtKwvXY/XM1Q03B/dz8g1pbKhtF6PyQ7G+K7+Ho/EEeNa3S5ez9g1mj0Z3Z7PzubGMfJZ3w/dG4Xkw09fD9dVqA69fN8P2uS5qU+JX0/XmrVQILnfD8hAuGxqrl8P0O1JpNyKXw/hONpxYhHfD98Kj1bB997PyxBeMV+cXo/ywOsm/8Vej9NefvHLYF5PxEvYtyruXk/lfg/Xmeuez8yRgi3EvJ1P76UPk4/sHc/vQD6wuuDdz9HSL1Xcqh0P+WpEwZAP3U/DfkxEBKCdD80FnXzuIN0P3cflKIS+XM/lhGOCFUHdD/X+NDqmCdzP68O4+ZFjHI/jWwxtvqWcj+fDSeFl7pzPyVdvhXsLXU/xn6v8hwgdT/w873Hxyx1P9tJoQovQnU/YeZ6n0oedT/pw5twfxJ1P9wzO7mP+3Q/Q20VzzSWcT/lE28SANxwP6X0pBn70XA/iD6/Es/+cj/OaQuQ9/lyP3XiuJ8E+3I/R25ObD+Pcj+EsZZRIXNyP68muM4TVHI/ljUrKYjtdD+g6K+rK651P8HPOegqxnU/VQBOyyvQdT82zalqGdF1P7+glEuyiXQ/YUIs+JVjdD+18dCtwLl2P0VVsMfUV3Y/phj1cNE0dj87MyeqdcR2PzEWdBwliHg/L8PELTWYeD+D/LhijjJ5P3tScxBwGng/AuJzBQi2dT/+yRcyHKh2PxK5CUoXxHY/8w7PcAK9dj+FtZpckAt3P3GpsxB1Knc/8k1mciuUdT994J+qMDt0P28xiGkCI3U/w62lnieqdT8C0H/KDoZ2P/QxNbncc3Y/oh/TOohkdj8epCE0IAZzP5eE4iuvC3M/wNFHddEOcz/SJQYqFRR1Pxz+9BlXPXY/UVMNCvYtdj+We0WNuvl1P8BVX3IdDHY/a0xwjHjXdT/czyBiRbJ1P0b6hxx3SHU/JQZF1i+XdT8q9Ta8+dl0PzCrDSaL13Q/f+CBh1eAdT/WKyMxLEB1P7ALSorN9XQ/MRBmmt5TdD/BVFmFQWdyPwDaeE7NsXI/GoPnmAR8cz8lfyXTR1VzP57PpFDJVXM/roETgf5mdj887NhbgsN1Pz6TTSSvPXQ/HxH1PwWhdD8AsSEydlN0P1Y8axAXW3Y/z1HmUM53dj+ZHyet8tp0PxCMNCp363Q/+LiqgNWxdT+ZxOgP7dV1PzYyW04WVHY/09JbbCoieD/rPCsKOSV4PzEmf8Uu6nc/IPQBU+I4eD/WhJ6PENV3P7bORR2iz3c/YmDejR4IeD9PFsxfm/d4Pw7QtH6V9ng/Uk7O1fIJdT++xiI/b0h0P0yQQcEHK3Q/7oNsocWhdT+D59gt4Hh1P1wmiosQKHM/L5A6+K4kdD92U4vRJxx0P81CC85EFnQ/Y6XZbLqAcz8+cqNP/E10P5RH3+TkR3Q/s/qtHUPxcj8QdSmWg7FyPycWBfzBPXQ/BZ/HEpYadD/DwjHV7hl0Py6piUtFa3U/exhu0XV/dD+QOpdFp/t0PxBn91uw+3Q/uc8hHqVjdT/YhD5TFol1PxwM2B50+HQ/6/yrc30EdD+3shMCkG11PzKjz/1jOnQ/xNp1w5mvcz94IjEQUx10PwRGYK5LAXQ/hWbOmUz1cz//pa7ugNtyP1zklkzw1HI/kSdNBD6XdT8ZK8/kEDx3P9aF6AbTE3Y/oFQC6elKdj/lybMKY852P9Xb+v+57Hg/dMPMCvW1eD8r3ND2bUB3PzgfBAz+R3c/qYMGqYQKdz/jY5fppDJ3P3IAuMyut3c/LTLiQ+7Vej8p1+YnVMt5P9cnZT//BXw/8ezZo2s0fD8xSzEvVwx8P449ggTGqnw/vS+oRfCnfz+Ws9qp88GAP9lmbW2Jh4A/nxQSN995fz80/+HjPph+P9GO6vixgYA/fxh2y1mQgD8ygltJju2AP2Z0rTe6EoA/B0AizkUTgD85zlpRTBGAP8hx5XzgDIA/y2r9QwISgD/OZRVVpp+AP4tFJRTznoA/dD4ihobafj8u9HpsUiGAP3jqC7W2en0/Dmux/wMufj8Ct5BVaS5+PzY1LFvIyH0/ZlsWRDfFez+qTNE8LCd6P8FwEYd86no/WFYDXWB2fD9rpsssE5p9P5w0IwB+YHs/kOJRPJXnej8RJB1yNZ55PzrGuzBxsXg/rZpHQxqVeT+pb3QLsr55PxkrxroYtn4/Hl9gMU/Rfj912tMip1h+PzxzxIZkw30/Lt910wY4fj/SgEL8vhWAPxW+JqvXToE/XNi86X3SgD+Mwo+gT9OAP0ucy7jqk4A/k5Gc01xwgD+NkSJqAJWAP+pi1G/XmIA/BBywsGxYgD+qUFVAhLh/P6VoHl6rdYA/YtshkxeHgD9YH5oh8SuAP/owBHOBWIA/ZTE+dUOVfz9DMqFuLxV/P2HEXavnhXs/WcxcP1itez8WwAYhaG97P8UAupU9Q3s/BQe+uUM+fD806ZjP2UR5P0fXmfW5RHU/AP8J0A2ZdT8zuhPE/yB2P4vwrr/xJHY/t5JL1V7ydT+Xp/kwg4t2P2gr2MfGF3Y/Ufrr4mb8dD+sdj+z+qx1P2ikyTDAEHM/bqOLV3Lscj8Aa1b3oLZyP48mZkC4QnI/PCDhXHeicj8HMPDruz1yP7VzTZ1dLXE/jZPBq3Hhbz8UG4KmrMpvP6ddxwl8YG8/NdcmN261az93zPXlKH9rP+hb6/FwMGs/KILlXWzpaD8RO/c650tuP9V6nph/vm4/NZWZjwbGcD9NuJ9A7FJyP5vAU2irWHI/B5oq/Kracj/kx4t2fgpyP5tz4APKJHI/cHh7SYXscj/8sfi21gFzP6dWU5g293I/B3ej+Tzjcj8Zz+TSjYVzPwgmlv9qinM/ulFww46ncz/RUFMpm6pzP+V906ZNmHM/PiqV+Y2mcz8XqJgY2GdzPxmk9NuPY3M/OIXRFBKzcz9nonCaB9dwP3lxDInu/HA/BIOnKvoUbj8rA88ncwJxP0x2G06l0XQ/uxzVrlo+dj8vIMFPseJ2P5TE/7QZsXY/TkPSDFO3dT/sN0TCibh1PyLc5cm0v3U/cBungJ2pdT8G0peBsj92P3M9iSwgOnY/8F67vicFdj/Js6GVOQt3Pyez5RmmdXc/MnMMJmVzdz82vR2Hok13P67PJDQbLnc/usB2DTUbdz+RdHrF5hh3PwZsIR0IYHc/TCXxFRI5dz/lxDUkQKByP3j9dsjSJHA/WhEt//opbz+hnyi5XEtuP5tMSDVFyW4/OK/Qi67dbj83YQbVx+5vP0HEWLcdbXQ/arAP986HdD9AXGLNaQd0P0x1+YT2Y3Q/Nu5ZRsuYdT/+JOacSRd0P27f3OAo3XM/77S0xZ3cdz/GElweaSB4P2ZW1E/VOng/UvIvxu0AeD+k9b2MYjl4P8WMyV8P6nc/lEvB3U/YeT+ruSVlf9J6P1zB4pKxjHs/HHfChF0vez9mQdI8pgJ7PxVE1gz2/Xo/k40lDpECez+uTc6oP0p7P92ithXI6nc/j7Gfiv54eD+atDMdTER5P6FM8Q+liHk/DNgBvy2geT8SIJPs65F5PwN8tS25cHk/4kHTkRQhdT+Kdi4zHCV1P84H0LTgQHU/CQ7qbjyjdT8y0L+bsB12P0jBX/MfC3c/MlPosqugdD9OG+JW9+ZzP15P57RVFXM/Unoz5BIrcz+aEWvUEfRyPwBncpm79nI/41B5Fjv8cj8E3jB1jghzP2ODTMfneXM/xMIPRbGTcz/IoSfY73FyP9qQUIDIsHE/nUPZsja7cD8FtRQTY9RwP+IZvvk7EXE/kUHs/6Z0cT9J7jFLYMVxP4cCQdE6q3E/10mcd237cD9Acmj6ARhwP36T7dZK6m0/aX878HrRbT8Pd+DxlDhuP/qNzKE5pG8/9nwgnFW9bz+iC/x39wZwP4GaT1rJum8/8bq2JHz2bz94eHCTbKRuP+NA043b5W0/zhtmlv/vaj8T3EA918VqP6ToXn9472o/BxzFrOlLaz/f1zB8Vz9rP+490NyLhmk/ToCSGzgRZz9+u5VecMVmP9LFtHLbymY/YhrGB2b+ZT8HqRTJ/XpqP8a+xTDDwWs/mL5OWzO6az86mO4Sxy1rP4ouOT4KI2k/ulR8k1xIaT8D3YF9bPFrP6KNC1S3MWw/LmoAgHjqaz80n+M49mJqPzFE+1bgemk/mxzGOASlaT+iw5NL4aBwP8hVF24jVnA/MhCeujTAbz+u2Ta6bPFvP7x6JMzm3W8/qwZdabPgcD+T/WyPk4RxP4x3RV2PD3I/t8wW7yn3cT/VX5S+LfNwP7aO4bH+0W8/PjVJwrPjcD+1BVCL1wRxP2SKMx0U9nA/C7stzBv5cD9Jf+7TyCtwP+oeRZFXJnA/O7LMc/94cD/m6P7rqI5wPzSdFN99t3E/pdwFy+XEcT+pEskzqRduP750llt4Im4/K/2pEyxpcT/pNJhsfLFyP0xW6STKv3I/Pw/YKG3/cT+uq0frsSBxP5tO+huxv3A/A4h8QrDNcD8vhLFBgbJyPwF2r68mu3I/+HUCdTPYcT8riVgIc1dyP1HG1YLWc3I/miwX7FnZcj/bz1RassN1Px/JaCSIwnU/xyIMNMJ4dT/3zFzvl2R1P1JZiG+hVHQ/SRfZh1LFdD//Ll3JfTt0PxdxkmtqwnQ/1PJXZdpfcj9J4jHewwRwP0kAN6oBBnA/EAKVvw8kcD9zklHQwcdvPwWhlCAK928/XyhZlBvmbz/3zBKxw3BtP37ahvgVc20/4SvcmKTlbT9/kmmBX8BtP1djyS7+i20/UyYbGLauaz/EMtwamLVkP5yU5BevR2U/BVLndkZtZT8AWSDA5qloP5doTmji72g/27vkX0L/Zz/sbWrxPB5oPz/+U3t0vmY/FPOM2qi3aD88wwj9IrBrP30zmh7fdG0/CLgO+LdwbT9kXdZ6O2FtP19UnKbo620/G2aOiN/sbT8cI9W+4OJtP7q3Bx+I6m0/mR1d+33CbT/7dshg5OltPxjLClth6m0/b34jHf3ZbT/GykcDLWtwP3qNeaFbGHA/W3wWoHoRcD9UmmbYTdBtP8eUAeVVo20/r/ARXkohbj+bSM5a5sVtP7b625L56Ww/jO1MWvfbaj+FWJj1ufBpP8ZU+CqeMWg/CFKZOpMeaT+AJoyrJgltP49CCOu6EGw/7XEaqdsPbD9EexjsyCZwPwoD1JStJHA/fTehiD9icT8/0uCJsjxxPywscmRj13E/OgIYRiT3cT9NEUOr1ylwP9j3tHE1enA/QGl9816UcD9p/l6aJcZxP9V1rdNN7HE/29V/3Mi1cT9Lki5iPtpxP2jnXrNkB3I/T+GcqJ5Mcj9jFqyvS/VxP90kThLB53E/ueWZNy04cT+RQU3jFFlyP5C6+fQarnM/DayRMwxJdD9cMnSwMj5yP7C4H6GrMnI/jWDJvyFBcT+FY7XQ32pxP1lq+kDtGHE/XOgjQDf+cD+2n0uwrxFxP092i4gt7HI/rq/2e+Lhcj/OiulNxIxxP3pDF7jISXE/q5xJOQxRcT8HT/snH8RxPyOQjfM1tHE/ZAuEqhQ6cT83RAE7EvRwP1TmEojHnnY/ds9esAQDdz+FogXZrIB1PzoZOcywcnQ/81stV/Bwcz+/VW2bBHpzP69BLiDRLXQ//h27UVk4dD9iwml36Td0P2LLO/hrDXQ/MWR27HAMdD8Z0Wktbw50PyaE8LTgr3I/osvweAAPcz9LgL2AWsBzP279Fri5yXM/x1iU3NHVcz8xsOFfwJlzPydPPMkvyHM/j42NxguDdD847SpospR0P8b/ZSyya2o/CyoPcgyLaT+30mDwGWFpP4OI0bzQS2c/eBW1HRGGbj//o3Jv9RBxP1dxq8pevnI/VACzbFDDcj+A5eHEU8dyP604jfd763I/XwO1uFH6cj/USD+FZHFzP97p9AvGDXM/zFikBOvZcj+9WDdDXwNyP25AA/z75HE/760k4zOQcj+/xfA+s9VyP+dql0N+7XI/c7DK+yAocj86/cX4zPxyP+33QJm3HXM/npXpDycbcz/qLewwLhtzP6hJ9trpGHM/AJzOigK9cD8RrqrZpHptP0qo3dCmG2k/2w5ibzUSaT9IE2akHXtpP6zIqLzMSGg/GHzIfb1QaT9d41rkIoNoP0awLpk34Wg/jjqqVT/haD82u5N+lLZoP7eLOReqa2g/iEZIZWiQZD/4QKNt7BdkP3Ruyq0vQGQ/aTDuIjiEZD8UJbvwDapiPyiwJ4zyOWI/0TtEuYj/YT+2GBgLyfhhP9DFeKVPmGU/Ijfiu4//aD9Ykkeuod1oP1QyugC+IGc/lk9lHEdUZz+/GP6KssFnP08FL1GhgWc/Iwv2UvTVZj/zjlEgW+dlP8hH2GDzqmU/rGzEPxnOZj+hH0LILuFmP5M3kuqi9mc/islKnJ7YZz9tVcH2tLpnP+KurvqcH2c/hS03g/FHaD+NtHREbGRoP4ahXyUYMGg/QNnAEic1aD/jt+xl6hVoP295KubLC2Y/VECX3eM0YT/5Il79TwFhP0ZTvDL922A/pVnCnNhMYT/mhijmpQJhP6WMFtCG52A/xUQi85hFZj8e0PNEoGZmPzRPtW5pj2U/TZP/NgRYYz+ZDlMisKJjP3JE4NMhJ2M/bs2/JiuOZj8ouNyra5JmP9iPYklkeWY/JQ8T5SWrZT8/faWw7pFlP55biD3I1Wc/QYmIHj3mbD+8SM74C2htP84JBs86UG0/KizS9aIpbT+/R5T1gittPzVMsUhl320/ZbpXVpybbT+wXhIpoZVtP7EJ/42PCm8/GACjA/+8az/TPacBz1NuPwsBQXnWVm4/2tCEoE55bj8wnJ4o3XVuP9wTedroom4/SAY6fvDMbD+Z00IHyMZwP1Y4r/SN4XA/9yVE8l3BcT8J7komaNdxPyqhroOT0HA/j527nAoabz/KUCT2CzVwP6UJXiq8IHA/OHwqjPBJcD+irrrT21JwPwVY2kH7/m8/FNVUF3qXcD8U1VQXepdwPwbBJtZj0G8/uSHrgAwCbz855rLi3O9sP3eoBOQD5Gw//tivAQ6CbT8=\"},\"shape\":[715],\"dtype\":\"float64\",\"order\":\"little\"}]]}}},\"view\":{\"type\":\"object\",\"name\":\"CDSView\",\"id\":\"p1930\",\"attributes\":{\"filter\":{\"type\":\"object\",\"name\":\"AllIndices\",\"id\":\"p1931\"}}},\"glyph\":{\"type\":\"object\",\"name\":\"Line\",\"id\":\"p1926\",\"attributes\":{\"tags\":[\"apply_ranges\"],\"x\":{\"type\":\"field\",\"field\":\"Date\"},\"y\":{\"type\":\"field\",\"field\":\"Close\"},\"line_color\":\"#30a2da\",\"line_width\":2}},\"selection_glyph\":{\"type\":\"object\",\"name\":\"Line\",\"id\":\"p1932\",\"attributes\":{\"tags\":[\"apply_ranges\"],\"x\":{\"type\":\"field\",\"field\":\"Date\"},\"y\":{\"type\":\"field\",\"field\":\"Close\"},\"line_color\":\"#30a2da\",\"line_width\":2}},\"nonselection_glyph\":{\"type\":\"object\",\"name\":\"Line\",\"id\":\"p1927\",\"attributes\":{\"tags\":[\"apply_ranges\"],\"x\":{\"type\":\"field\",\"field\":\"Date\"},\"y\":{\"type\":\"field\",\"field\":\"Close\"},\"line_color\":\"#30a2da\",\"line_alpha\":0.1,\"line_width\":2}},\"muted_glyph\":{\"type\":\"object\",\"name\":\"Line\",\"id\":\"p1928\",\"attributes\":{\"tags\":[\"apply_ranges\"],\"x\":{\"type\":\"field\",\"field\":\"Date\"},\"y\":{\"type\":\"field\",\"field\":\"Close\"},\"line_color\":\"#30a2da\",\"line_alpha\":0.2,\"line_width\":2}}}}],\"toolbar\":{\"type\":\"object\",\"name\":\"Toolbar\",\"id\":\"p1886\",\"attributes\":{\"tools\":[{\"type\":\"object\",\"name\":\"WheelZoomTool\",\"id\":\"p1875\",\"attributes\":{\"tags\":[\"hv_created\"],\"renderers\":\"auto\",\"zoom_together\":\"none\"}},{\"type\":\"object\",\"name\":\"HoverTool\",\"id\":\"p1876\",\"attributes\":{\"tags\":[\"hv_created\"],\"renderers\":[{\"id\":\"p1929\"}],\"tooltips\":[[\"Date\",\"@{Date}{%F %T}\"],[\"Close\",\"@{Close}\"]],\"formatters\":{\"type\":\"map\",\"entries\":[[\"@{Date}\",\"datetime\"]]}}},{\"type\":\"object\",\"name\":\"SaveTool\",\"id\":\"p1911\"},{\"type\":\"object\",\"name\":\"PanTool\",\"id\":\"p1912\"},{\"type\":\"object\",\"name\":\"BoxZoomTool\",\"id\":\"p1913\",\"attributes\":{\"overlay\":{\"type\":\"object\",\"name\":\"BoxAnnotation\",\"id\":\"p1914\",\"attributes\":{\"syncable\":false,\"level\":\"overlay\",\"visible\":false,\"left\":{\"type\":\"number\",\"value\":\"nan\"},\"right\":{\"type\":\"number\",\"value\":\"nan\"},\"top\":{\"type\":\"number\",\"value\":\"nan\"},\"bottom\":{\"type\":\"number\",\"value\":\"nan\"},\"left_units\":\"canvas\",\"right_units\":\"canvas\",\"top_units\":\"canvas\",\"bottom_units\":\"canvas\",\"line_color\":\"black\",\"line_alpha\":1.0,\"line_width\":2,\"line_dash\":[4,4],\"fill_color\":\"lightgrey\",\"fill_alpha\":0.5}}}},{\"type\":\"object\",\"name\":\"ResetTool\",\"id\":\"p1919\"}],\"active_drag\":{\"id\":\"p1912\"},\"active_scroll\":{\"id\":\"p1875\"}}},\"left\":[{\"type\":\"object\",\"name\":\"LinearAxis\",\"id\":\"p1906\",\"attributes\":{\"ticker\":{\"type\":\"object\",\"name\":\"BasicTicker\",\"id\":\"p1907\",\"attributes\":{\"mantissas\":[1,2,5]}},\"formatter\":{\"type\":\"object\",\"name\":\"BasicTickFormatter\",\"id\":\"p1908\"},\"axis_label\":\"Percent Change\",\"major_label_policy\":{\"type\":\"object\",\"name\":\"AllLabels\",\"id\":\"p1909\"}}}],\"below\":[{\"type\":\"object\",\"name\":\"DatetimeAxis\",\"id\":\"p1889\",\"attributes\":{\"ticker\":{\"type\":\"object\",\"name\":\"DatetimeTicker\",\"id\":\"p1890\",\"attributes\":{\"num_minor_ticks\":5,\"tickers\":[{\"type\":\"object\",\"name\":\"AdaptiveTicker\",\"id\":\"p1891\",\"attributes\":{\"num_minor_ticks\":0,\"mantissas\":[1,2,5],\"max_interval\":500.0}},{\"type\":\"object\",\"name\":\"AdaptiveTicker\",\"id\":\"p1892\",\"attributes\":{\"num_minor_ticks\":0,\"base\":60,\"mantissas\":[1,2,5,10,15,20,30],\"min_interval\":1000.0,\"max_interval\":1800000.0}},{\"type\":\"object\",\"name\":\"AdaptiveTicker\",\"id\":\"p1893\",\"attributes\":{\"num_minor_ticks\":0,\"base\":24,\"mantissas\":[1,2,4,6,8,12],\"min_interval\":3600000.0,\"max_interval\":43200000.0}},{\"type\":\"object\",\"name\":\"DaysTicker\",\"id\":\"p1894\",\"attributes\":{\"days\":[1,2,3,4,5,6,7,8,9,10,11,12,13,14,15,16,17,18,19,20,21,22,23,24,25,26,27,28,29,30,31]}},{\"type\":\"object\",\"name\":\"DaysTicker\",\"id\":\"p1895\",\"attributes\":{\"days\":[1,4,7,10,13,16,19,22,25,28]}},{\"type\":\"object\",\"name\":\"DaysTicker\",\"id\":\"p1896\",\"attributes\":{\"days\":[1,8,15,22]}},{\"type\":\"object\",\"name\":\"DaysTicker\",\"id\":\"p1897\",\"attributes\":{\"days\":[1,15]}},{\"type\":\"object\",\"name\":\"MonthsTicker\",\"id\":\"p1898\",\"attributes\":{\"months\":[0,1,2,3,4,5,6,7,8,9,10,11]}},{\"type\":\"object\",\"name\":\"MonthsTicker\",\"id\":\"p1899\",\"attributes\":{\"months\":[0,2,4,6,8,10]}},{\"type\":\"object\",\"name\":\"MonthsTicker\",\"id\":\"p1900\",\"attributes\":{\"months\":[0,4,8]}},{\"type\":\"object\",\"name\":\"MonthsTicker\",\"id\":\"p1901\",\"attributes\":{\"months\":[0,6]}},{\"type\":\"object\",\"name\":\"YearsTicker\",\"id\":\"p1902\"}]}},\"formatter\":{\"type\":\"object\",\"name\":\"DatetimeTickFormatter\",\"id\":\"p1903\"},\"axis_label\":\"Date\",\"major_label_policy\":{\"type\":\"object\",\"name\":\"AllLabels\",\"id\":\"p1904\"}}}],\"center\":[{\"type\":\"object\",\"name\":\"Grid\",\"id\":\"p1905\",\"attributes\":{\"axis\":{\"id\":\"p1889\"},\"grid_line_color\":null}},{\"type\":\"object\",\"name\":\"Grid\",\"id\":\"p1910\",\"attributes\":{\"dimension\":1,\"axis\":{\"id\":\"p1906\"},\"grid_line_color\":null}}],\"min_border_top\":10,\"min_border_bottom\":10,\"min_border_left\":10,\"min_border_right\":10,\"output_backend\":\"webgl\"}},{\"type\":\"object\",\"name\":\"Spacer\",\"id\":\"p1934\",\"attributes\":{\"name\":\"HSpacer02724\",\"stylesheets\":[\"\\n:host(.pn-loading):before, .pn-loading:before {\\n  background-color: #c3c3c3;\\n  mask-size: auto calc(min(50%, 400px));\\n  -webkit-mask-size: auto calc(min(50%, 400px));\\n}\",{\"id\":\"p1868\"},{\"id\":\"p1866\"},{\"id\":\"p1867\"}],\"margin\":0,\"sizing_mode\":\"stretch_width\",\"align\":\"start\"}}]}}],\"defs\":[{\"type\":\"model\",\"name\":\"ReactiveHTML1\"},{\"type\":\"model\",\"name\":\"FlexBox1\",\"properties\":[{\"name\":\"align_content\",\"kind\":\"Any\",\"default\":\"flex-start\"},{\"name\":\"align_items\",\"kind\":\"Any\",\"default\":\"flex-start\"},{\"name\":\"flex_direction\",\"kind\":\"Any\",\"default\":\"row\"},{\"name\":\"flex_wrap\",\"kind\":\"Any\",\"default\":\"wrap\"},{\"name\":\"gap\",\"kind\":\"Any\",\"default\":\"\"},{\"name\":\"justify_content\",\"kind\":\"Any\",\"default\":\"flex-start\"}]},{\"type\":\"model\",\"name\":\"FloatPanel1\",\"properties\":[{\"name\":\"config\",\"kind\":\"Any\",\"default\":{\"type\":\"map\"}},{\"name\":\"contained\",\"kind\":\"Any\",\"default\":true},{\"name\":\"position\",\"kind\":\"Any\",\"default\":\"right-top\"},{\"name\":\"offsetx\",\"kind\":\"Any\",\"default\":null},{\"name\":\"offsety\",\"kind\":\"Any\",\"default\":null},{\"name\":\"theme\",\"kind\":\"Any\",\"default\":\"primary\"},{\"name\":\"status\",\"kind\":\"Any\",\"default\":\"normalized\"}]},{\"type\":\"model\",\"name\":\"GridStack1\",\"properties\":[{\"name\":\"mode\",\"kind\":\"Any\",\"default\":\"warn\"},{\"name\":\"ncols\",\"kind\":\"Any\",\"default\":null},{\"name\":\"nrows\",\"kind\":\"Any\",\"default\":null},{\"name\":\"allow_resize\",\"kind\":\"Any\",\"default\":true},{\"name\":\"allow_drag\",\"kind\":\"Any\",\"default\":true},{\"name\":\"state\",\"kind\":\"Any\",\"default\":[]}]},{\"type\":\"model\",\"name\":\"drag1\",\"properties\":[{\"name\":\"slider_width\",\"kind\":\"Any\",\"default\":5},{\"name\":\"slider_color\",\"kind\":\"Any\",\"default\":\"black\"},{\"name\":\"value\",\"kind\":\"Any\",\"default\":50}]},{\"type\":\"model\",\"name\":\"click1\",\"properties\":[{\"name\":\"terminal_output\",\"kind\":\"Any\",\"default\":\"\"},{\"name\":\"debug_name\",\"kind\":\"Any\",\"default\":\"\"},{\"name\":\"clears\",\"kind\":\"Any\",\"default\":0}]},{\"type\":\"model\",\"name\":\"FastWrapper1\",\"properties\":[{\"name\":\"object\",\"kind\":\"Any\",\"default\":null},{\"name\":\"style\",\"kind\":\"Any\",\"default\":null}]},{\"type\":\"model\",\"name\":\"NotificationAreaBase1\",\"properties\":[{\"name\":\"js_events\",\"kind\":\"Any\",\"default\":{\"type\":\"map\"}},{\"name\":\"position\",\"kind\":\"Any\",\"default\":\"bottom-right\"},{\"name\":\"_clear\",\"kind\":\"Any\",\"default\":0}]},{\"type\":\"model\",\"name\":\"NotificationArea1\",\"properties\":[{\"name\":\"js_events\",\"kind\":\"Any\",\"default\":{\"type\":\"map\"}},{\"name\":\"notifications\",\"kind\":\"Any\",\"default\":[]},{\"name\":\"position\",\"kind\":\"Any\",\"default\":\"bottom-right\"},{\"name\":\"_clear\",\"kind\":\"Any\",\"default\":0},{\"name\":\"types\",\"kind\":\"Any\",\"default\":[{\"type\":\"map\",\"entries\":[[\"type\",\"warning\"],[\"background\",\"#ffc107\"],[\"icon\",{\"type\":\"map\",\"entries\":[[\"className\",\"fas fa-exclamation-triangle\"],[\"tagName\",\"i\"],[\"color\",\"white\"]]}]]},{\"type\":\"map\",\"entries\":[[\"type\",\"info\"],[\"background\",\"#007bff\"],[\"icon\",{\"type\":\"map\",\"entries\":[[\"className\",\"fas fa-info-circle\"],[\"tagName\",\"i\"],[\"color\",\"white\"]]}]]}]}]},{\"type\":\"model\",\"name\":\"Notification\",\"properties\":[{\"name\":\"background\",\"kind\":\"Any\",\"default\":null},{\"name\":\"duration\",\"kind\":\"Any\",\"default\":3000},{\"name\":\"icon\",\"kind\":\"Any\",\"default\":null},{\"name\":\"message\",\"kind\":\"Any\",\"default\":\"\"},{\"name\":\"notification_type\",\"kind\":\"Any\",\"default\":null},{\"name\":\"_destroyed\",\"kind\":\"Any\",\"default\":false}]},{\"type\":\"model\",\"name\":\"TemplateActions1\",\"properties\":[{\"name\":\"open_modal\",\"kind\":\"Any\",\"default\":0},{\"name\":\"close_modal\",\"kind\":\"Any\",\"default\":0}]},{\"type\":\"model\",\"name\":\"BootstrapTemplateActions1\",\"properties\":[{\"name\":\"open_modal\",\"kind\":\"Any\",\"default\":0},{\"name\":\"close_modal\",\"kind\":\"Any\",\"default\":0}]},{\"type\":\"model\",\"name\":\"TemplateEditor1\",\"properties\":[{\"name\":\"layout\",\"kind\":\"Any\",\"default\":[]}]},{\"type\":\"model\",\"name\":\"MaterialTemplateActions1\",\"properties\":[{\"name\":\"open_modal\",\"kind\":\"Any\",\"default\":0},{\"name\":\"close_modal\",\"kind\":\"Any\",\"default\":0}]},{\"type\":\"model\",\"name\":\"copy_to_clipboard1\",\"properties\":[{\"name\":\"fill\",\"kind\":\"Any\",\"default\":\"none\"},{\"name\":\"value\",\"kind\":\"Any\",\"default\":null}]}]}};\n",
       "  var render_items = [{\"docid\":\"a33208da-5ea7-49fc-852f-9aa6df06045d\",\"roots\":{\"p1865\":\"a366385e-0ee7-4b8f-bfd8-44f18fa135cf\"},\"root_ids\":[\"p1865\"]}];\n",
       "  var docs = Object.values(docs_json)\n",
       "  if (!docs) {\n",
       "    return\n",
       "  }\n",
       "  const py_version = docs[0].version.replace('rc', '-rc.').replace('.dev', '-dev.')\n",
       "  function embed_document(root) {\n",
       "    var Bokeh = get_bokeh(root)\n",
       "    Bokeh.embed.embed_items_notebook(docs_json, render_items);\n",
       "    for (const render_item of render_items) {\n",
       "      for (const root_id of render_item.root_ids) {\n",
       "\tconst id_el = document.getElementById(root_id)\n",
       "\tif (id_el.children.length && (id_el.children[0].className === 'bk-root')) {\n",
       "\t  const root_el = id_el.children[0]\n",
       "\t  root_el.id = root_el.id + '-rendered'\n",
       "\t}\n",
       "      }\n",
       "    }\n",
       "  }\n",
       "  function get_bokeh(root) {\n",
       "    if (root.Bokeh === undefined) {\n",
       "      return null\n",
       "    } else if (root.Bokeh.version !== py_version) {\n",
       "      if (root.Bokeh.versions === undefined || !root.Bokeh.versions.has(py_version)) {\n",
       "\treturn null\n",
       "      }\n",
       "      return root.Bokeh.versions.get(py_version);\n",
       "    } else if (root.Bokeh.version === py_version) {\n",
       "      return root.Bokeh\n",
       "    }\n",
       "    return null\n",
       "  }\n",
       "  function is_loaded(root) {\n",
       "    var Bokeh = get_bokeh(root)\n",
       "    return (Bokeh != null && Bokeh.Panel !== undefined)\n",
       "  }\n",
       "  if (is_loaded(root)) {\n",
       "    embed_document(root);\n",
       "  } else {\n",
       "    var attempts = 0;\n",
       "    var timer = setInterval(function(root) {\n",
       "      if (is_loaded(root)) {\n",
       "        clearInterval(timer);\n",
       "        embed_document(root);\n",
       "      } else if (document.readyState == \"complete\") {\n",
       "        attempts++;\n",
       "        if (attempts > 200) {\n",
       "          clearInterval(timer);\n",
       "\t  var Bokeh = get_bokeh(root)\n",
       "\t  if (Bokeh == null || Bokeh.Panel == null) {\n",
       "            console.warn(\"Panel: ERROR: Unable to run Panel code because Bokeh or Panel library is missing\");\n",
       "\t  } else {\n",
       "\t    console.warn(\"Panel: WARNING: Attempting to render but not all required libraries could be resolved.\")\n",
       "\t    embed_document(root)\n",
       "\t  }\n",
       "        }\n",
       "      }\n",
       "    }, 25, root)\n",
       "  }\n",
       "})(window);</script>"
      ],
      "text/plain": [
       ":Curve   [Date]   (Close)"
      ]
     },
     "execution_count": 90,
     "metadata": {
      "application/vnd.holoviews_exec.v0+json": {
       "id": "p1865"
      }
     },
     "output_type": "execute_result"
    }
   ],
   "source": [
    "#Calculate rolling standard deviation for 21-day window\n",
    "\n",
    "rolling_std = pct_change_df.rolling(window= 21).std()\n",
    "\n",
    "#Plot rolling standard deviation \n",
    "rolling_std_plot = rolling_std.hvplot(\n",
    "    xlabel='Date',\n",
    "    x = 'Date',\n",
    "    ylabel = 'Percent Change',\n",
    "    title= '21 Day Rolling Standard Deviation'\n",
    "    )\n",
    "\n",
    "rolling_std_plot"
   ]
  },
  {
   "cell_type": "code",
   "execution_count": 91,
   "metadata": {},
   "outputs": [
    {
     "data": {
      "text/plain": [
       "0.07709838380660679"
      ]
     },
     "execution_count": 91,
     "metadata": {},
     "output_type": "execute_result"
    }
   ],
   "source": [
    "#Calculate the annualized standard deviation (252 trading days)\n",
    "\n",
    "annualized_std = hed_std * np.sqrt(252)\n",
    "annualized_std"
   ]
  },
  {
   "cell_type": "code",
   "execution_count": 92,
   "metadata": {},
   "outputs": [
    {
     "name": "stdout",
     "output_type": "stream",
     "text": [
      "Stored 'describe' (DataFrame)\n",
      "Stored 'daily_return_plot' (Curve)\n",
      "Stored 'rolling_std_plot' (Curve)\n"
     ]
    }
   ],
   "source": [
    "%store describe\n",
    "%store daily_return_plot\n",
    "%store rolling_std_plot\n"
   ]
  },
  {
   "cell_type": "code",
   "execution_count": null,
   "metadata": {},
   "outputs": [],
   "source": []
  }
 ],
 "metadata": {
  "kernelspec": {
   "display_name": "dev",
   "language": "python",
   "name": "python3"
  },
  "language_info": {
   "codemirror_mode": {
    "name": "ipython",
    "version": 3
   },
   "file_extension": ".py",
   "mimetype": "text/x-python",
   "name": "python",
   "nbconvert_exporter": "python",
   "pygments_lexer": "ipython3",
   "version": "3.10.14"
  }
 },
 "nbformat": 4,
 "nbformat_minor": 2
}
