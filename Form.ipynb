{
 "cells": [
  {
   "cell_type": "code",
   "execution_count": 393,
   "id": "6c55a2ed-2004-4ae1-981a-bb53d1941f7d",
   "metadata": {
    "tags": []
   },
   "outputs": [],
   "source": [
    "# import functions needed for form\n",
    "import ipywidgets as widgets\n",
    "#import hvplot.pandas\n",
    "#import holoviews as hv\n",
    "import datetime\n",
    "import babel.numbers"
   ]
  },
  {
   "cell_type": "code",
   "execution_count": 395,
   "id": "b794db41-7db4-47ca-9cee-3e530f9c7614",
   "metadata": {
    "tags": []
   },
   "outputs": [
    {
     "name": "stdout",
     "output_type": "stream",
     "text": [
      "Stored 'calc_out' (float)\n",
      "Stored 'exchange_rates' (dict)\n",
      "Stored 'exchange_date' (date)\n",
      "Stored 'run_date' (date)\n"
     ]
    }
   ],
   "source": [
    "# initialize certain variables\n",
    "# Local\n",
    "from_currency=['USD']\n",
    "to_currency=['AUD','BBD','EUR','GBP','HKD','INR','JPY','MXN']\n",
    "exchanged_amt = widgets.Label()\n",
    "out = widgets.Output()\n",
    "\n",
    "# Global\n",
    "global calc_out\n",
    "calc_out = 0.0\n",
    "%store calc_out\n",
    "\n",
    "global exchange_rates\n",
    "exchange_rates = {'USD':1.00}\n",
    "%store exchange_rates\n",
    "\n",
    "global exchange_date\n",
    "exchange_date = datetime.date(1900,1,1)\n",
    "%store exchange_date\n",
    "\n",
    "global run_date\n",
    "run_date = datetime.date(1900,1,1)\n",
    "%store run_date\n",
    "\n",
    "global response_data\n",
    "global exchg_rate_data\n"
   ]
  },
  {
   "cell_type": "code",
   "execution_count": 414,
   "id": "295001cc-2902-4f8e-817c-42ce09192093",
   "metadata": {
    "tags": []
   },
   "outputs": [],
   "source": [
    "# define function executed for calculate exchange amount button\n",
    "def on_calc_button_clicked(b):\n",
    "    \n",
    "    # invoke calc_exchange_rate notebook\n",
    "    %run calc_exchange_rate.ipynb\n",
    "    # call function calc_exchange_rate in calc_exchange_rate_notebook, \n",
    "    # using the TO currency code\n",
    "    calc_exchange_rate(to_currency_dropdown.value)\n",
    "    #retrieve the exchange rate, stored in calc_exchange_rate\n",
    "    %store -r calc_out\n",
    "    \n",
    "    # calculate the converted dollar amount:\n",
    "    to_amt = calc_out * from_amount.value\n",
    "    \n",
    "    # format to and from amounts with appropriate symbols, for display back to user\n",
    "    from_str = babel.numbers.format_currency(from_amount.value, from_currency_dropdown.value, locale='en_US')\n",
    "    to_str = babel.numbers.format_currency(calc_out, to_currency_dropdown.value, locale='en_US')\n",
    "    \n",
    "    %store -r exchange_date\n",
    "    \n",
    "   # with out:\n",
    "   #     display(calc_out)\n",
    "   #     display(from_amount.value)\n",
    "    exchanged_amt.value = (from_str + ' converts to ' + to_str + ' (current as of ' + exchange_date + ')')\n",
    "\n"
   ]
  },
  {
   "cell_type": "code",
   "execution_count": 416,
   "id": "d98c5aa1-54dc-41b9-9f9b-6f26a8f277b0",
   "metadata": {
    "tags": []
   },
   "outputs": [],
   "source": [
    "# define function executed for analyze historical data button\n",
    "def on_hist_button_clicked(b):\n",
    "    print(\"hist button clicked\")\n",
    "#    %run historical_exchange_rates.ipynb\n"
   ]
  },
  {
   "cell_type": "code",
   "execution_count": 418,
   "id": "801e45c8-7532-4a43-a251-640c89f67753",
   "metadata": {
    "tags": []
   },
   "outputs": [],
   "source": [
    "# define function executed to calculate exchange amount\n",
    "def on_future_button_clicked(b):\n",
    "    print('future button clicked')\n",
    "#   %run future_exchange_rates.ipynb"
   ]
  },
  {
   "cell_type": "code",
   "execution_count": 420,
   "id": "d5851fd4-78a9-4b49-83a9-dc515c833218",
   "metadata": {
    "tags": []
   },
   "outputs": [],
   "source": [
    "# from and to currency dropdown boxes\n",
    "from_currency_dropdown = widgets.Dropdown(\n",
    "    options=from_currency,\n",
    "    value=from_currency[0],\n",
    "    disabled=False,\n",
    "    layout=widgets.Layout(width='20%')\n",
    ")\n",
    "from_label = widgets.Label(value='From Currency: ')\n",
    "\n",
    "to_currency_dropdown = widgets.Dropdown(\n",
    "    options=to_currency,\n",
    "    value=to_currency[0],\n",
    "    disabled=False,\n",
    "    layout=widgets.Layout(width='20%')\n",
    ")\n",
    "to_label = widgets.Label(value='To Currency___:')"
   ]
  },
  {
   "cell_type": "code",
   "execution_count": 422,
   "id": "d5db2121-a926-41e1-af36-0825aea14d6d",
   "metadata": {
    "tags": []
   },
   "outputs": [],
   "source": [
    "# amount of currency to exchange, in integer; valid values 1 - 999,999\n",
    "from_amount = widgets.BoundedIntText(\n",
    "    value=1000,\n",
    "    min=1,\n",
    "    max=999999,\n",
    "    step=1,\n",
    "    disabled=False,\n",
    "   layout=widgets.Layout(width='20%')\n",
    ")\n",
    "\n",
    "from_amount_label = widgets.Label(value='$ to exchange.: ')"
   ]
  },
  {
   "cell_type": "code",
   "execution_count": 424,
   "id": "ec2b4e12-a625-4726-b360-244c8adf2a9b",
   "metadata": {
    "tags": []
   },
   "outputs": [],
   "source": [
    "# initialize variables\\erase previous results\n",
    "out.clear_output()\n",
    "exchanged_amt.value = ''"
   ]
  },
  {
   "cell_type": "code",
   "execution_count": 426,
   "id": "5be6783f-29dd-43b3-a6e9-664fcdca59f6",
   "metadata": {
    "tags": []
   },
   "outputs": [],
   "source": [
    "# buttons:\n",
    "\n",
    "# button to calculate exchange amount\n",
    "calc_to_amount = widgets.Button(\n",
    "    description='Calculate exchange amount',\n",
    "    disabled=False,\n",
    "    button_style='', # 'success', 'info', 'warning', 'danger' or ''\n",
    "    layout=widgets.Layout(width='300px', height='30px', border='1px dashed blue'),\n",
    "    icon='dollar-sign'\n",
    ")\n",
    "calc_to_amount.on_click(on_calc_button_clicked)\n",
    "\n",
    "# button to analyze historical rates\n",
    "show_historical_data = widgets.Button(\n",
    "    description='Analyze Historical Exchange Rates',\n",
    "    disabled=False,\n",
    "    button_style='', \n",
    "    layout=widgets.Layout(width='300px', height='30px', border='1px dashed blue'),\n",
    "    icon='chart-line'\n",
    ")\n",
    "show_historical_data.on_click(on_hist_button_clicked)\n",
    "\n",
    "# button to predict future rates\n",
    "predict_future_rate = widgets.Button(\n",
    "    description='Run prediction analysis',\n",
    "    disabled=False,\n",
    "    button_style='', # 'success', 'info', 'warning', 'danger' or ''\n",
    "    layout=widgets.Layout(width='300px', height='30px', border='1px dashed blue'),\n",
    "    icon='chart-line'\n",
    ")\n",
    "predict_future_rate.on_click(on_future_button_clicked)\n"
   ]
  },
  {
   "cell_type": "code",
   "execution_count": 428,
   "id": "288725c7-2d94-4b1d-8d43-195de07becd0",
   "metadata": {
    "tags": []
   },
   "outputs": [
    {
     "data": {
      "application/vnd.jupyter.widget-view+json": {
       "model_id": "c2efb60772bc495ea8596b566db3f9c5",
       "version_major": 2,
       "version_minor": 0
      },
      "text/plain": [
       "VBox(children=(HBox(children=(Label(value='From Currency: '), Dropdown(layout=Layout(width='20%'), options=('U…"
      ]
     },
     "metadata": {},
     "output_type": "display_data"
    }
   ],
   "source": [
    "# build form\n",
    "l1 = widgets.HBox(children=[from_label,from_currency_dropdown])\n",
    "l2 = widgets.HBox(children=[to_label,to_currency_dropdown])\n",
    "l3 = widgets.HBox(children=[from_amount_label,from_amount])\n",
    "l4 = widgets.HBox(children=[exchanged_amt])\n",
    "l5 = widgets.HBox(children=[calc_to_amount])\n",
    "l6 = widgets.HBox(children=[show_historical_data])\n",
    "l7 = widgets.HBox(children=[predict_future_rate])\n",
    "l8 = widgets.HBox(children=[out])\n",
    "\n",
    "box = widgets.VBox([l1,l2, l3, l4, l5, l6,l7,l8])\n",
    "box.layout={\"border\":\"2px solid black\"}\n",
    "\n",
    "# display the form:\n",
    "display(box)"
   ]
  },
  {
   "cell_type": "code",
   "execution_count": null,
   "id": "71a664ed-35d2-44b5-9612-d6733ff18d42",
   "metadata": {},
   "outputs": [],
   "source": []
  }
 ],
 "metadata": {
  "kernelspec": {
   "display_name": "Python 3 (ipykernel)",
   "language": "python",
   "name": "python3"
  },
  "language_info": {
   "codemirror_mode": {
    "name": "ipython",
    "version": 3
   },
   "file_extension": ".py",
   "mimetype": "text/x-python",
   "name": "python",
   "nbconvert_exporter": "python",
   "pygments_lexer": "ipython3",
   "version": "3.11.7"
  }
 },
 "nbformat": 4,
 "nbformat_minor": 5
}
